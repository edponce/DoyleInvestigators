{
  "nbformat": 4,
  "nbformat_minor": 0,
  "metadata": {
    "colab": {
      "name": "Project1_NLP.ipynb",
      "provenance": [],
      "collapsed_sections": [],
      "toc_visible": true,
      "include_colab_link": true
    },
    "kernelspec": {
      "name": "python3",
      "display_name": "Python 3"
    }
  },
  "cells": [
    {
      "cell_type": "markdown",
      "metadata": {
        "id": "view-in-github",
        "colab_type": "text"
      },
      "source": [
        "<a href=\"https://colab.research.google.com/github/edponce/DoyleInvestigators/blob/master/Project1_NLP.ipynb\" target=\"_parent\"><img src=\"https://colab.research.google.com/assets/colab-badge.svg\" alt=\"Open In Colab\"/></a>"
      ]
    },
    {
      "cell_type": "code",
      "metadata": {
        "id": "D64o3VubPHvS",
        "colab_type": "code",
        "colab": {}
      },
      "source": [
        "import os\n",
        "import re\n",
        "import copy\n",
        "import pprint\n",
        "import collections\n",
        "import urllib.request\n",
        "import urllib.parse\n",
        "import numpy as np\n",
        "import seaborn as sns  # 0.10.1 (0.11 fails in barplot)\n",
        "import pandas\n",
        "import matplotlib.pyplot as plt"
      ],
      "execution_count": 21,
      "outputs": []
    },
    {
      "cell_type": "markdown",
      "metadata": {
        "id": "bv7gPdfwPSxq",
        "colab_type": "text"
      },
      "source": [
        "###$\\color{brown}{\\rm Corpus~Selection}$"
      ]
    },
    {
      "cell_type": "code",
      "metadata": {
        "id": "Kbl0IcL4PQGL",
        "colab_type": "code",
        "colab": {}
      },
      "source": [
        "CORPUS_URL = {\n",
        "    'The Valley of Fear': \"http://www.gutenberg.org/files/3289/3289.txt\",\n",
        "    'A Study in Scarlet': \"http://www.gutenberg.org/files/244/244.txt\",\n",
        "    'The Sign of the Four': \"http://www.gutenberg.org/files/2097/2097.txt\",\n",
        "    'The Hound of the Baskervilles': \"http://www.gutenberg.org/files/2852/2852.txt\",\n",
        "    'The Adventures of Sherlock Holmes': 'https://www.gutenberg.org/files/1661/1661.txt',\n",
        "}"
      ],
      "execution_count": null,
      "outputs": []
    },
    {
      "cell_type": "markdown",
      "metadata": {
        "id": "Jum0u8PPILo6",
        "colab_type": "text"
      },
      "source": [
        "###$\\color{brown}{\\rm Characters~and~Aliases}$"
      ]
    },
    {
      "cell_type": "code",
      "metadata": {
        "id": "MLF6Xu24II7K",
        "colab_type": "code",
        "colab": {}
      },
      "source": [
        "CHARACTERS = {\n",
        "    'The Valley of Fear': {\n",
        "        'main': [\n",
        "            ['Sherlock Holmes'],\n",
        "            ['John Watson'],\n",
        "            ['Alec MacDonald'],\n",
        "            ['Fred Porlock'],\n",
        "            ['John Douglas', 'Birdy Edwards', 'Mr. Douglas'],\n",
        "            ['James Moriarty'],\n",
        "            ['Cecil Barker'],\n",
        "            ['Sergeant Wilson'],\n",
        "            ['White Mason'],\n",
        "            ['Mrs. Douglas'],\n",
        "            ['Ted Baldwin'],\n",
        "        ],\n",
        "        'detectives': [\n",
        "            ['Sherlock Holmes'],\n",
        "            ['John Watson'],\n",
        "            ['Alec MacDonald'],\n",
        "            ['White Mason'],\n",
        "        ],\n",
        "        'perpetrators': [\n",
        "            # NOTE: James Moriarty's organism?\n",
        "            ['James Moriarty'],\n",
        "        ],\n",
        "    },\n",
        "    'A Study in Scarlet': {\n",
        "        'main': [\n",
        "            ['Sherlock Holmes'],\n",
        "            ['John Watson'],\n",
        "            ['Inspector Gregson'],\n",
        "            ['Inspector Lestrade'],\n",
        "            ['Enoch Drebber'],\n",
        "            ['Joseph Stangerson'],\n",
        "            ['Jefferson Hope', 'cab', 'cabman'],\n",
        "            ['John Ferrier'],\n",
        "            ['Lucy'],\n",
        "            ['Brigham Young'],\n",
        "        ],\n",
        "        'detectives': [\n",
        "            ['Sherlock Holmes'],\n",
        "            ['John Watson'],\n",
        "            ['Inspector Gregson'],\n",
        "            ['Inspector Lestrade'],\n",
        "        ],\n",
        "        'perpetrators': [\n",
        "            ['Jefferson Hope', 'cab', 'cabman'],\n",
        "            ['Enoch Drebber'],\n",
        "            ['Joseph Stangerson'],\n",
        "        ],\n",
        "    },\n",
        "    'The Sign of the Four': {\n",
        "        'main': [\n",
        "            ['Sherlock Holmes'],\n",
        "            ['John Watson'],\n",
        "            ['Mary Morstan'],\n",
        "            ['Arthur Morstan'],\n",
        "            ['Major John Sholto'],\n",
        "            ['Thaddeus Sholto'],\n",
        "            ['Bartholomew Sholto'],\n",
        "        ],\n",
        "        'detectives': [\n",
        "            ['Sherlock Holmes'],\n",
        "            ['John Watson'],\n",
        "        ],\n",
        "        'perpetrators': [\n",
        "            ['Johnathan Small'],\n",
        "            ['Tonga'],\n",
        "        ],\n",
        "    },\n",
        "    'The Hound of the Baskervilles': {\n",
        "        'main': [\n",
        "            ['Sherlock Holmes'],\n",
        "            ['John Watson'],\n",
        "            ['James Mortimer'],\n",
        "            ['Charles Baskerville'],\n",
        "            ['Henry Baskerville'],\n",
        "            ['Jack Stapleton'],\n",
        "            ['Beryl Stapleton'],\n",
        "            ['Barrymore'],\n",
        "            ['Selden'],\n",
        "        ],\n",
        "        'detectives': [\n",
        "            ['Sherlock Holmes'],\n",
        "            ['John Watson'],\n",
        "        ],\n",
        "        'perpetrators': [\n",
        "            ['Jack Stapleton'],\n",
        "        ],\n",
        "    },\n",
        "    'The Boscombe Valley Mystery': {\n",
        "        'main': [\n",
        "            ['Sherlock Holmes'],\n",
        "            ['John Watson'],\n",
        "            ['Inspector Lestrade'],\n",
        "            ['James McCarthy'],\n",
        "            ['John Turner'],\n",
        "            ['Alice Turner'],\n",
        "        ],\n",
        "        'detectives': [\n",
        "            ['Sherlock Holmes'],\n",
        "            ['John Watson'],\n",
        "        ],\n",
        "        'perpetrators': [\n",
        "            ['John Turner'],\n",
        "        ],\n",
        "    },\n",
        "}"
      ],
      "execution_count": null,
      "outputs": []
    },
    {
      "cell_type": "markdown",
      "metadata": {
        "id": "EbEAIVRj7lbu",
        "colab_type": "text"
      },
      "source": [
        "###$\\color{brown}{\\rm Read/Load~Corpus}$\n",
        "Read a corpus from web page or file to start processing."
      ]
    },
    {
      "cell_type": "code",
      "metadata": {
        "id": "3AIatw6d7gUZ",
        "colab_type": "code",
        "colab": {}
      },
      "source": [
        "def get_corpus_from_url(url):\n",
        "    with urllib.request.urlopen(url) as fd:\n",
        "        text = fd.read()\n",
        "        try:\n",
        "            return text.decode('utf-8')\n",
        "        except UnicodeDecodeError:\n",
        "            return text.decode('iso-8859-1')\n",
        "\n",
        "\n",
        "def get_corpus_from_file(file):\n",
        "    with open(file) as fd:\n",
        "        return fd.read()\n",
        "\n",
        "\n",
        "def get_corpus(key):\n",
        "    def validate_url(url):\n",
        "        parsed_url = urllib.parse.urlparse(url)\n",
        "        return all([parsed_url.scheme, parsed_url.netloc, parsed_url.path])\n",
        "\n",
        "    # Check if a filename was provided\n",
        "    if os.path.isfile(key):\n",
        "        return get_corpus_from_file(key)\n",
        "    else:\n",
        "        if key in CORPUS_URL:\n",
        "            file = os.path.basename(CORPUS_URL[key])\n",
        "            if os.path.isfile(file):\n",
        "                return get_corpus_from_file(file)\n",
        "\n",
        "    # Check if a URL was provided\n",
        "    if validate_url(key):\n",
        "        return get_corpus_from_url(key)\n",
        "    else:\n",
        "        if key in CORPUS_URL:\n",
        "            url = CORPUS_URL[key]\n",
        "            if validate_url(url):\n",
        "                return get_corpus_from_url(url)\n",
        "\n",
        "    raise Exception(f\"corpus '{key}' not found\")"
      ],
      "execution_count": null,
      "outputs": []
    },
    {
      "cell_type": "markdown",
      "metadata": {
        "id": "3q8QE-jl8q-0",
        "colab_type": "text"
      },
      "source": [
        "###$\\color{brown}{\\rm Regexes~for~Headings}$\n",
        "Functions to get spans of headings:\n",
        "* Gutenberg tags\n",
        "* Named headings - parts, chapters, adventures\n",
        "* Numbered headings\n",
        "* Epilogue"
      ]
    },
    {
      "cell_type": "code",
      "metadata": {
        "id": "qFVpoNyQTRp0",
        "colab_type": "code",
        "colab": {}
      },
      "source": [
        "def get_newline_index(text):\n",
        "    \"\"\"Find the index of the first newline in the text.\n",
        "    This is used to skip/correct one newline at beginning of headings.\n",
        "    \"\"\"\n",
        "    match = re.match(r'[ \\t\\r]*\\n', text)\n",
        "    return match.end() if match else 0\n",
        "\n",
        "\n",
        "def get_gutenberg_start_heading(text, span=None):\n",
        "    \"\"\"Find Gutenberg's start tag (and producer, if available).\n",
        "\n",
        "    Notes:\n",
        "        * re.match() searches at the beginning of strings, but there are\n",
        "          certain character combinations that are not considered strings,\n",
        "          and thus need to use re.search(), even if it is at the beginning\n",
        "          of line. An example are the asterisks in the Gutenberg START\n",
        "          tag.\n",
        "    \"\"\"\n",
        "    if not span:\n",
        "        span = (0, len(text))\n",
        "\n",
        "    match = re.search(\n",
        "        r'(^\\s*|(\\s*\\n){2,})'  # pre-whitespace, no indentation\n",
        "        r'\\*{3}\\s*'  # 3 asterisks\n",
        "        r'start[^\\r\\n]+'  # tag text\n",
        "        r'\\s*\\*{3}'  # 3 asterisks\n",
        "        r'(\\s*\\nproduced by.+)?'  # producer line\n",
        "        r'(\\s*\\n){2,}',  # post-whitespace\n",
        "        text[span[0]:span[1]],\n",
        "    )\n",
        "\n",
        "    if match:\n",
        "        span = match.span()\n",
        "        offs = get_newline_index(text[span[0]:span[1]])\n",
        "        return span[0] + offs, span[1]\n",
        "\n",
        "\n",
        "def get_gutenberg_end_heading(text, span=None):\n",
        "    \"\"\"Find Gutenberg's end tag (and transcriber's notes, if available).\n",
        "\n",
        "    Notes:\n",
        "        * Duplicate/similar Gutenberg end tags.\n",
        "        * Use a newline before transcriber note to prevent matching similar\n",
        "          (but indented) notes at beginning of text.\n",
        "        * Use DOTALL flag to match transcriber's notes across multiple lines.\n",
        "          But be wary that using DOTALL prevents the use of '.+' for other\n",
        "          cases, so use '[^\\r\\n]' instead.\n",
        "    \"\"\"\n",
        "    if not span:\n",
        "        span = (0, len(text))\n",
        "\n",
        "    match = re.search(\n",
        "        r'('\n",
        "        r'(\\s*\\n){2,}'  # pre-whitespace, no indentation\n",
        "        r'(original transcriber.+\\s*\\n)?'  # transcriber notes\n",
        "        r'end[^\\r\\n]+'  # duplicate/similar tag text\n",
        "        r')?'\n",
        "        r'\\s*\\n'  # pre-whitespace, no indentation\n",
        "        r'\\*{3}\\s*'  # 3 asterisks\n",
        "        r\"end[^\\r\\n]+\"  # tag text\n",
        "        r'\\s*\\*{3}'  # 3 asterisks\n",
        "        r'(\\s*\\n){2,}',  # post-whitespace\n",
        "        text[span[0]:span[1]],\n",
        "        flags=re.DOTALL,\n",
        "    )\n",
        "\n",
        "    if match:\n",
        "        span = match.span()\n",
        "        offs = get_newline_index(text[span[0]:span[1]])\n",
        "        return span[0] + offs, span[1]\n",
        "\n",
        "\n",
        "def get_named_headings(text, name, span=None):\n",
        "    \"\"\"Find named headings with title.\"\"\"\n",
        "    if not span:\n",
        "        span = (0, len(text))\n",
        "\n",
        "    spans = [\n",
        "        (match.start() + span[0], match.end() + span[0])\n",
        "        for match in re.finditer(\n",
        "            r'(^(\\s*)|(\\s*\\n){2,})'  # pre-whitespace, no indentation\n",
        "            r'('\n",
        "            fr'{name}[ \\t]+(\\d+|[ivxlcd]+)'  # label with Arabic/Roman number\n",
        "            r'(-+|\\.)?'  # label-title delimiter\n",
        "            r'((\\s*\\n){2})?'  # whitespace for titles two line apart\n",
        "            r'.*(\\r?\\n.*)?'  # title (muti-line support)\n",
        "            r'|'  # cases: name # \\s* label, # name/label\n",
        "            r'(\\d+|[ivxlcd]+)'  # label with Arabic or Roman numbering\n",
        "            r'(-+|\\.)?'  # label-title delimiter\n",
        "            fr'[ \\t]+.*{name}.*'  # label with name\n",
        "            r')'\n",
        "            r'(\\s*\\n){2,}',  # post-whitespace\n",
        "            text[span[0]:span[1]],\n",
        "        )\n",
        "    ]\n",
        "\n",
        "    _spans = []\n",
        "    for _span in spans:\n",
        "        offs = get_newline_index(text[_span[0]:_span[1]])\n",
        "        _spans.append((_span[0] + offs, _span[1]))\n",
        "    return _spans\n",
        "\n",
        "\n",
        "def get_numbered_headings(text, span=None):\n",
        "    \"\"\"Find numbered headings with no title.\"\"\"\n",
        "    if not span:\n",
        "        span = (0, len(text))\n",
        "\n",
        "    spans = [\n",
        "        (match.start() + span[0], match.end() + span[0])\n",
        "        for match in re.finditer(\n",
        "            r'(^\\s*|(\\s*\\n){2,})'  # pre-whitespace, no indentation\n",
        "            fr'(\\d+|[ivxlcd]+)'  # label with Arabic or Roman numbering\n",
        "            r'(-+|\\.)'  # label-title delimiter\n",
        "            r'(\\s*\\n){2,}',  # post-whitespace\n",
        "            text[span[0]:span[1]]\n",
        "        )\n",
        "    ]\n",
        "\n",
        "    _spans = []\n",
        "    for _span in spans:\n",
        "        offs = get_newline_index(text[_span[0]:_span[1]])\n",
        "        _spans.append((_span[0] + offs, _span[1]))\n",
        "    return _spans\n",
        "\n",
        "\n",
        "def get_epilogue_heading(text, span=None):\n",
        "    if not span:\n",
        "        span = (0, len(text))\n",
        "\n",
        "    match = re.search(\n",
        "        r'(^\\s*|(\\s*\\n){2,})'  # pre-whitespace, no indentation\n",
        "        r'epilogue'  # tag text\n",
        "        r'(\\s*\\n){2,}',  # post-whitespace\n",
        "        text[span[0]:span[1]]\n",
        "    )\n",
        "\n",
        "    if match:\n",
        "        span = match.span()\n",
        "        offs = get_newline_index(text[span[0]:span[1]])\n",
        "        return span[0] + offs, span[1]"
      ],
      "execution_count": null,
      "outputs": []
    },
    {
      "cell_type": "markdown",
      "metadata": {
        "id": "yoh4upkIhTf_",
        "colab_type": "text"
      },
      "source": [
        "###$\\color{brown}{\\rm Regions~of~Interest~(ROI)}$\n",
        "Functions to get spans of text between headings."
      ]
    },
    {
      "cell_type": "code",
      "metadata": {
        "id": "PH5HWEjvKShk",
        "colab_type": "code",
        "colab": {}
      },
      "source": [
        "def get_headings_map(\n",
        "    text,\n",
        "    headings=['part', 'chapter', 'adventure', 'epilogue', 'numbered'],\n",
        "):\n",
        "    \"\"\"Create a list of all heading spans, guarantees at least one set\n",
        "    of bounding spans.\n",
        "\n",
        "    Args:\n",
        "        headings (str, List[str]): Heading names to search for.\n",
        "    \"\"\"\n",
        "    if not isinstance(headings, (list, tuple, set)):\n",
        "        _headings = [headings]\n",
        "    else:\n",
        "        _headings = copy.deepcopy(headings)\n",
        "\n",
        "    headings_map = {}\n",
        "    _headings_map = {}\n",
        "\n",
        "    # Always available heading, all text\n",
        "    text_heading = '_text_'\n",
        "\n",
        "    # Ensure there is always a begin \"span\"\n",
        "    start_span = get_gutenberg_start_heading(text)\n",
        "    if not start_span:\n",
        "        start_span = 0, 0\n",
        "\n",
        "    # Ensure there is always an end \"span\"\n",
        "    end_span = get_gutenberg_end_heading(text)\n",
        "    if not end_span:\n",
        "        end_span = len(text), len(text)\n",
        "    headings_map[text_heading] = [start_span, end_span]\n",
        "    if text_heading in _headings:\n",
        "        _headings.remove(text_heading)\n",
        "\n",
        "    # Optional\n",
        "    span = get_epilogue_heading(text)\n",
        "    if span:\n",
        "        heading = 'epilogue'\n",
        "        _headings_map[heading] = [span, headings_map[text_heading][1]]\n",
        "        if heading in _headings:\n",
        "            headings_map[heading] = _headings_map[heading]\n",
        "            _headings.remove(heading)\n",
        "\n",
        "    # Optional\n",
        "    spans = get_numbered_headings(text)\n",
        "    if spans:\n",
        "        heading = 'numbered'\n",
        "        _headings_map[heading] = [*spans, headings_map[text_heading][1]]\n",
        "        if heading in _headings:\n",
        "            headings_map[heading] = _headings_map[heading]\n",
        "            _headings.remove(heading)\n",
        "\n",
        "    # Optional\n",
        "    for heading in _headings:\n",
        "        spans = get_named_headings(text, heading)\n",
        "        if spans:\n",
        "            headings_map[heading] = spans\n",
        "            if 'epilogue' in _headings_map:\n",
        "                headings_map[heading].append(_headings_map['epilogue'][0])\n",
        "            else:\n",
        "                headings_map[heading].append(headings_map[text_heading][1])\n",
        "    return headings_map\n",
        "\n",
        "\n",
        "def select_rois_spans(spans, n=None):\n",
        "    if n is None:\n",
        "        _spans = [\n",
        "            (spans[i][1], spans[i + 1][0])\n",
        "            for i in range(len(spans) - 1)\n",
        "        ]\n",
        "    else:\n",
        "        _spans = [\n",
        "            (spans[i - 1][1], spans[i][0])\n",
        "            for i in ([n] if isinstance(n, int) else n)\n",
        "            if i >= 1 and i < (len(spans))\n",
        "        ]\n",
        "    return _spans\n",
        "\n",
        "\n",
        "def get_rois(text, name=None, *, n=None, headings_map=None):\n",
        "    \"\"\"Get span bounding a ROI.\n",
        "\n",
        "    Args:\n",
        "        name (str): ROI\n",
        "\n",
        "        n (int, Iterable[int]): Number of ROI, [1,N]\n",
        "    \"\"\"\n",
        "    if not headings_map:\n",
        "        headings_map = get_headings_map(text)\n",
        "\n",
        "    # Always available heading, all text\n",
        "    text_heading = '_text_'\n",
        "\n",
        "    rois = []\n",
        "    if not name:\n",
        "        rois = [(\n",
        "            headings_map[text_heading][0][1],\n",
        "            headings_map[text_heading][1][0],\n",
        "        )]\n",
        "    elif name in headings_map:\n",
        "        rois = select_rois_spans(headings_map[name], n)\n",
        "\n",
        "    # If necessary, skip last inner heading\n",
        "    _rois = []\n",
        "    for roi in rois:\n",
        "        value = roi[1]\n",
        "        for spans in headings_map.values():\n",
        "            for span in spans:\n",
        "                if roi[1] > span[0] and roi[1] <= span[1]:\n",
        "                    value = span[0]\n",
        "        _rois.append((roi[0], value))\n",
        "    return _rois\n",
        "\n",
        "\n",
        "def get_roi(text, name, span=None, *, n=None):\n",
        "    if not span:\n",
        "        spans = get_rois(text, name, n=n)\n",
        "    else:\n",
        "        spans = [\n",
        "            (_span[0] + span[0], _span[1] + span[0])\n",
        "            for _span in get_rois(text[span[0]:span[1]], name, n=n)\n",
        "        ]\n",
        "    return spans\n",
        "\n",
        "\n",
        "def get_unique_spans(spans):\n",
        "    \"\"\"Given a list of spans, remove fully embedded spans.\"\"\"\n",
        "    unique_spans = spans\n",
        "    for span in spans:\n",
        "        for _span in spans:\n",
        "            if (\n",
        "                span != _span and\n",
        "                (span[0] >= _span[0] and span[1] <= _span[1])\n",
        "            ):\n",
        "                unique_spans.remove(span)\n",
        "    return unique_spans\n",
        "\n",
        "\n",
        "def get_text_from_span(text, span=None):\n",
        "    if not span:\n",
        "        span = (0, len(text))\n",
        "    elif isinstance(span[0], int):\n",
        "        span = [span]\n",
        "\n",
        "    roi = ''\n",
        "    for _span in span:\n",
        "        roi += text[_span[0]:_span[1]]\n",
        "    return roi\n",
        "\n",
        "\n",
        "def get_text(text, span=None, *, n=None):\n",
        "    return get_rois(text)\n",
        "\n",
        "\n",
        "def get_parts(text, span=None, *, n=None):\n",
        "    return get_roi(text, 'part', span, n=n)\n",
        "\n",
        "\n",
        "def get_chapters(text, span=None, *, n=None):\n",
        "    return get_roi(text, 'chapter', span, n=n)\n",
        "\n",
        "\n",
        "def get_adventures(text, span=None, *, n=None):\n",
        "    return get_roi(text, 'adventure', span, n=n)\n",
        "\n",
        "\n",
        "def get_numbered_sections(text, span=None, *, n=None):\n",
        "    return get_roi(text, 'numbered', span, n=n)\n",
        "\n",
        "\n",
        "def get_epilogue(text, span=None):\n",
        "    return get_roi(text, 'epilogue', span)"
      ],
      "execution_count": null,
      "outputs": []
    },
    {
      "cell_type": "markdown",
      "metadata": {
        "id": "Vlvxv22kLVR8",
        "colab_type": "text"
      },
      "source": [
        "###$\\color{brown}{\\rm Tokenization}$\n",
        "Regexes to get text decomposition:\n",
        "* Paragraphs\n",
        "* Sentences\n",
        "* Tokens"
      ]
    },
    {
      "cell_type": "code",
      "metadata": {
        "id": "2lFxOxLAKtSP",
        "colab_type": "code",
        "colab": {}
      },
      "source": [
        "def tokenize(text, span=None, regex=r'\\w', *, use_remaining=False):\n",
        "    def _get_tokens(text):\n",
        "        return [\n",
        "            match.span()\n",
        "            for match in re.finditer(regex, text)\n",
        "        ]\n",
        "\n",
        "    if not span:\n",
        "        span = (0, len(text))\n",
        "\n",
        "    # Get tokens from text\n",
        "    # Add base offset to tokens' spans\n",
        "    tokens = [\n",
        "        (tok_span[0] + span[0], tok_span[1] + span[0])\n",
        "        for tok_span in _get_tokens(text[span[0]:span[1]])\n",
        "    ]\n",
        "\n",
        "    if use_remaining:\n",
        "        if tokens:\n",
        "            # Extend last token to end of text\n",
        "            tokens[-1] = tokens[-1][0], span[1]\n",
        "        else:\n",
        "            # Consider all text as the token\n",
        "            tokens = [span]\n",
        "\n",
        "    return tokens\n",
        "\n",
        "\n",
        "def select_spans(spans, n=None):\n",
        "    if n is None:\n",
        "        _spans = spans\n",
        "    else:\n",
        "        _spans = [\n",
        "            spans[i - 1]\n",
        "            for i in ([n] if isinstance(n, int) else n)\n",
        "            if i >= 1 and i <= (len(spans))\n",
        "        ]\n",
        "    return _spans\n",
        "\n",
        "\n",
        "def get_paragraphs(text, span=None, *, n=None):\n",
        "    spans = tokenize(\n",
        "        text,\n",
        "        span,\n",
        "        r'('\n",
        "        r'([^\\r\\n]+\\r?\\n)+'  # (regular text with newline)+\n",
        "        r'('\n",
        "        r'(\\r?\\n)+'  # (newline)+\n",
        "        r'[^a-zA-Z]'  # non-alpha character: quote, number, etc.\n",
        "        r')?'  # handles case of multiple newlines but still same paragraph\n",
        "        r')+',  # (full regex)+\n",
        "        use_remaining=True,\n",
        "    )\n",
        "    return select_spans(spans, n)\n",
        "\n",
        "\n",
        "def get_sentences(text, span=None, *, n=None):\n",
        "    spans = tokenize(\n",
        "        text,\n",
        "        span,\n",
        "        r'(([^\\.\\r\\n;M!]+\\n?)+(.\")?(M[rR][sS]?\\.\\s)?(M)?)+'\n",
        "        r'|'\n",
        "        r'M[rR][sS]?\\.\\s([^\\.;M!]+(.\")?(M[rR][sS]?\\.\\s)?(M)?)+',\n",
        "    )\n",
        "    return select_spans(spans, n)\n",
        "\n",
        "\n",
        "def get_tokens(text, span=None, *, n=None):\n",
        "    spans = tokenize(\n",
        "        text,\n",
        "        span,\n",
        "        r'\\w+'  # compound alphanumeric words\n",
        "        r'('\n",
        "        r\"'\\w+\"  # contractions\n",
        "        r'|(-\\w+)+'  # tokens with inlined dashes\n",
        "        r')'\n",
        "        r'|\\w+'  # single alphanumeric words\n",
        "        r'|\\$?-?\\d+(,\\d+)*(\\.\\d+)?',  # numbers, decimals, monetary\n",
        "    )\n",
        "    return select_spans(spans, n)"
      ],
      "execution_count": null,
      "outputs": []
    },
    {
      "cell_type": "markdown",
      "metadata": {
        "colab_type": "text",
        "id": "6e_Pyk86Kr0o"
      },
      "source": [
        "###$\\color{brown}{\\rm Frequency~Count}$\n",
        "For vocabulary and keywords/entities"
      ]
    },
    {
      "cell_type": "code",
      "metadata": {
        "id": "UOEgIn2Cnbcb",
        "colab_type": "code",
        "colab": {}
      },
      "source": [
        "def get_keywords_map(text, span=None, keywords=[], *, spans_map=None):\n",
        "    if spans_map is None:\n",
        "        spans_map = collections.defaultdict(list)\n",
        "\n",
        "    # NOTE: Allow cases where token is a prefix/compound of a longer token\n",
        "    for kw in keywords:\n",
        "        spans_map[kw].extend(tokenize(\n",
        "            text,\n",
        "            span,\n",
        "            fr'(?<![a-zA-Z0-9]){kw}',\n",
        "        ))\n",
        "    return spans_map\n",
        "\n",
        "\n",
        "def generate_frequency_map(spans_map, *, threshold=None):\n",
        "    freq = collections.defaultdict(int)\n",
        "    for k, v in spans_map.items():\n",
        "        if threshold is None or len(v) >= threshold:\n",
        "            freq[k] = len(v)\n",
        "    return freq\n",
        "\n",
        "\n",
        "def get_vocabulary(text, span=None, *, vocab=None):\n",
        "    return (\n",
        "        list(vocab) if vocab else []\n",
        "    ) + [\n",
        "        get_text_from_span(text, token_span)\n",
        "        for token_span in get_tokens(text, span)\n",
        "    ]\n",
        "\n",
        "\n",
        "def get_vocabulary_map(text, span=None, *, spans_map=None):\n",
        "    if spans_map is None:\n",
        "        spans_map = collections.defaultdict(list)\n",
        "\n",
        "    for token_span in get_tokens(text, span):\n",
        "        token = get_text_from_span(text, token_span)\n",
        "        spans_map[token].append(token_span)\n",
        "    return spans_map"
      ],
      "execution_count": null,
      "outputs": []
    },
    {
      "cell_type": "markdown",
      "metadata": {
        "id": "Dg59EqZHUi1l",
        "colab_type": "text"
      },
      "source": [
        "###$\\color{brown}{\\rm Visualization}$"
      ]
    },
    {
      "cell_type": "code",
      "metadata": {
        "id": "5suCpM1DUh9n",
        "colab_type": "code",
        "colab": {}
      },
      "source": [
        "def visualize_co_occurrence(data, keywords_rows, closeness_words_columns):\n",
        "    # Create a dataframe from the provided data\n",
        "    df = pandas.DataFrame(\n",
        "        data,\n",
        "        index=keywords_rows,\n",
        "        columns=closeness_words_columns,\n",
        "    )\n",
        "\n",
        "    # Set plot size according to the number of cols and rows\n",
        "    plt.figure(figsize=(len(columns_example), len(rows_example)))\n",
        "\n",
        "    # Set color of heatmap\n",
        "    heatmap = sns.heatmap(df, cmap=\"YlGnBu\", annot=True, linewidths=.5)\n",
        "\n",
        "    # Rotate text\n",
        "    loc_x, labels_x = plt.xticks()\n",
        "    loc_y, labels_y = plt.yticks()\n",
        "    heatmap.set_xticklabels(labels_x, rotation=58)\n",
        "    heatmap.set_yticklabels(labels_y, rotation=0)\n",
        "    plt.show()"
      ],
      "execution_count": null,
      "outputs": []
    },
    {
      "cell_type": "markdown",
      "metadata": {
        "id": "1g4VrZThNgJT",
        "colab_type": "text"
      },
      "source": [
        "Example of co-occurrence"
      ]
    },
    {
      "cell_type": "code",
      "metadata": {
        "id": "55rQOyj6NayZ",
        "colab_type": "code",
        "colab": {}
      },
      "source": [
        "# Example of expected format of data that the method needs\n",
        "rows_example = [\"murder\", \"guilty\",\"suspect\",\"assassin\"]\n",
        "columns_example = [\"Holmes\", \"Moriarty\",\"Banks\",\"Charles\",\"Jack\",\"Tom\",\"Jim\",\"Jane\",\"Jackson\"]\n",
        "data_example = [[4,5,0,0,2,1,3,2,0],[0,0,2,1,4,3,6,1,0],[5,0,0,1,3,2,4,5,1],[0,0,1,0,0,0,5,2,0]]\n",
        "\n",
        "# Plot\n",
        "visualize_co_occurrence(data_example,rows_example,columns_example)"
      ],
      "execution_count": null,
      "outputs": []
    },
    {
      "cell_type": "code",
      "metadata": {
        "id": "VPui5ZX_ls_0",
        "colab_type": "code",
        "colab": {}
      },
      "source": [
        "def barplot(data, labels, xlabel='Word', ylabel='Frequency'):\n",
        "    # Prepare the data to pandas\n",
        "    data_ = [labels, data]\n",
        "    data_ = np.asarray(data_).transpose()\n",
        "\n",
        "    # Create a dataframe from the provided data\n",
        "    df = pandas.DataFrame(data_, columns=[xlabel, ylabel])\n",
        "    sns.barplot(x=xlabel, y=ylabel, data=df, palette=\"Blues_d\")\n",
        "    plt.show()"
      ],
      "execution_count": 22,
      "outputs": []
    },
    {
      "cell_type": "markdown",
      "metadata": {
        "id": "I2K0IrUFN4mi",
        "colab_type": "text"
      },
      "source": [
        "Example of word count histogram"
      ]
    },
    {
      "cell_type": "code",
      "metadata": {
        "id": "zgkC-LT7OASA",
        "colab_type": "code",
        "colab": {
          "base_uri": "https://localhost:8080/",
          "height": 279
        },
        "outputId": "703dab40-1930-467b-c843-a0967d21a567"
      },
      "source": [
        "# Example of expected format of data that the method needs\n",
        "labels_example = [\"murder\", \"guilty\",\"suspect\",\"assassin\"]\n",
        "data_example = [5,8,3,1]\n",
        "\n",
        "# Plot\n",
        "barplot(data_example,labels_example)"
      ],
      "execution_count": 23,
      "outputs": [
        {
          "output_type": "display_data",
          "data": {
            "image/png": "[encoded data removed]",
            "text/plain": [
              "<Figure size 432x288 with 1 Axes>"
            ]
          },
          "metadata": {
            "tags": [],
            "needs_background": "light"
          }
        }
      ]
    },
    {
      "cell_type": "markdown",
      "metadata": {
        "id": "J26kopyFSL6C",
        "colab_type": "text"
      },
      "source": [
        "###$\\color{brown}{\\rm Drivers}$"
      ]
    },
    {
      "cell_type": "markdown",
      "metadata": {
        "id": "H5_Dh2WOgDb8",
        "colab_type": "text"
      },
      "source": [
        "# Negative words frequency/histogram"
      ]
    },
    {
      "cell_type": "code",
      "metadata": {
        "id": "nOF8BoVltsmr",
        "colab_type": "code",
        "colab": {
          "base_uri": "https://localhost:8080/",
          "height": 106
        },
        "outputId": "297e7869-b9df-4466-bbfc-f17bc48bbb12"
      },
      "source": [
        "def get_negative_words(negative_words):\n",
        "    \"\"\"\n",
        "    Get list of negative words\n",
        "    \"\"\"\n",
        "    regex_result = [negative_words[match.span()[0]:match.span()[1]] for match in re.finditer(r'(?<=\\n)[a-zA-Z]+(?=\\n)', negative_words)]\n",
        "    return regex_result\n",
        "\n",
        "def get_top_negative_words(corpus, negative_list, top):\n",
        "    \"\"\"\n",
        "    Get top list of negative words\n",
        "    \"\"\"\n",
        "    frequency_list = []\n",
        "    for word in negative_list:\n",
        "        result_list = [match.span() for match in re.finditer(fr'(?<![a-zA-Z0-9]){word}(?![a-z])', corpus)]\n",
        "        frequency_list.append(len(result_list))\n",
        "    \n",
        "    # Sort results\n",
        "    temp_list = np.asarray(list(zip(negative_list,frequency_list)), dtype = [('word', np.unicode_, 16), ('frequency', int)] )\n",
        "    sorted_list = np.sort(temp_list, order='frequency', kind=\"quicksort\")\n",
        "    sorted_list = sorted_list[::-1]\n",
        "\n",
        "    return sorted_list[:top]\n",
        "\n",
        "\n",
        "# Get negative words\n",
        "url = \"https://raw.githubusercontent.com/edponce/DoyleInvestigators/develop/negative-words.txt\"\n",
        "negative_words = get_corpus_from_url(url)\n",
        "result_negative = get_negative_words(negative_words)\n",
        "\n",
        "# Get corpus (use all text between Gutenberg tags)\n",
        "corpus = get_corpus('The Valley of Fear')\n",
        "corpus_l = corpus.lower()\n",
        "text = get_text_from_span(corpus_l, get_text(corpus_l)[0])\n",
        "\n",
        "# Get count\n",
        "results = get_top_negative_words(text, result_negative, top=20)\n",
        "print(results)"
      ],
      "execution_count": 26,
      "outputs": [
        {
          "output_type": "stream",
          "text": [
            "[('fear', 42) ('murder', 39) ('crime', 36) ('dead', 31) ('danger', 30)\n",
            " ('doubt', 27) ('dark', 24) ('strange', 22) ('hard', 22) ('bad', 19)\n",
            " ('trouble', 17) ('terrible', 15) ('cold', 15) ('struck', 14)\n",
            " ('stranger', 14) ('death', 14) ('criminal', 14) ('worse', 13)\n",
            " ('dumb', 13) ('warning', 12)]\n"
          ],
          "name": "stdout"
        }
      ]
    },
    {
      "cell_type": "markdown",
      "metadata": {
        "id": "1JGmhR6ePSgI",
        "colab_type": "text"
      },
      "source": [
        "# Example of negative keyword count"
      ]
    },
    {
      "cell_type": "code",
      "metadata": {
        "id": "hko7XGRqgBlE",
        "colab_type": "code",
        "colab": {}
      },
      "source": [
        "corpus = get_corpus('The Valley of Fear')\n",
        "text = corpus.lower()\n",
        "\n",
        "# Get region of interest (ROI)\n",
        "roi_span = get_text(text)  # all text\n",
        "print(roi_span)\n",
        "\n",
        "# Search keywords\n",
        "keywords = ['dead', 'death', 'murder', 'crime', 'hurt', 'blood', 'treasure',\n",
        "            'suffer', 'guilty', 'assassin', 'suspect', 'pain']\n",
        "keyword_spans = get_keywords_map(text, roi_span[0], keywords)"
      ],
      "execution_count": null,
      "outputs": []
    },
    {
      "cell_type": "code",
      "metadata": {
        "id": "EZSGmoXBl4C6",
        "colab_type": "code",
        "colab": {}
      },
      "source": [
        "# Generate frequency table\n",
        "keyword_freq = generate_frequency_map(keyword_spans, threshold=5)\n",
        "print(keyword_freq)\n",
        "\n",
        "# Plot\n",
        "labels = list(keyword_freq.keys())\n",
        "data = list(keyword_freq.values())\n",
        "print(labels)\n",
        "print(data)\n",
        "barplot(data, labels)"
      ],
      "execution_count": null,
      "outputs": []
    },
    {
      "cell_type": "markdown",
      "metadata": {
        "id": "5xJTBNIkkRB-",
        "colab_type": "text"
      },
      "source": [
        "# Story structure"
      ]
    },
    {
      "cell_type": "code",
      "metadata": {
        "id": "3Q1TgcxbkXb6",
        "colab_type": "code",
        "colab": {}
      },
      "source": [
        "def count_text_structure(text, span=None, structure=None):\n",
        "    if structure is None:\n",
        "        structure = collections.defaultdict(int)\n",
        "\n",
        "    for par_span in get_paragraphs(text, span):\n",
        "        structure['Paragraphs'] += 1\n",
        "        for sent_span in get_sentences(text, par_span):\n",
        "            structure['Sentences'] += 1\n",
        "            for tok_span in get_tokens(text, sent_span):\n",
        "                structure['Words'] += 1\n",
        "\n",
        "\n",
        "structures = {}\n",
        "\n",
        "story = 'The Valley of Fear'\n",
        "corpus = get_corpus(story)\n",
        "text = corpus.lower()\n",
        "structure = collections.defaultdict(int)\n",
        "for part_span in get_parts(text):\n",
        "    structure['Parts'] += 1\n",
        "    for chp_span in get_chapters(text, part_span):\n",
        "        structure['Chapters'] += 1\n",
        "        count_text_structure(text, chp_span, structure)\n",
        "structure['Epilogue'] = 1\n",
        "span = get_text(text)[0]\n",
        "structure['Characters'] = span[1] - span[0]\n",
        "count_text_structure(text, get_epilogue(text)[0], structure)\n",
        "structures[story] = structure\n",
        "\n",
        "story = 'A Study in Scarlet'\n",
        "corpus = get_corpus(story)\n",
        "text = corpus.lower()\n",
        "structure = collections.defaultdict(int)\n",
        "for part_span in get_parts(text):\n",
        "    structure['Parts'] += 1\n",
        "    for chp_span in get_chapters(text, part_span):\n",
        "        structure['Chapters'] += 1\n",
        "        count_text_structure(text, chp_span, structure)\n",
        "span = get_text(text)[0]\n",
        "structure['Characters'] = span[1] - span[0]\n",
        "structures[story] = structure\n",
        "\n",
        "story = 'The Sign of the Four'\n",
        "corpus = get_corpus(story)\n",
        "text = corpus.lower()\n",
        "structure = collections.defaultdict(int)\n",
        "for chp_span in get_chapters(text):\n",
        "    structure['Chapters'] += 1\n",
        "    count_text_structure(text, chp_span, structure)\n",
        "span = get_text(text)[0]\n",
        "structure['Characters'] = span[1] - span[0]\n",
        "structures[story] = structure\n",
        "\n",
        "story = 'The Hound of the Baskervilles'\n",
        "corpus = get_corpus(story)\n",
        "text = corpus.lower()\n",
        "structure = collections.defaultdict(int)\n",
        "for chp_span in get_chapters(text):\n",
        "    structure['Chapters'] += 1\n",
        "    count_text_structure(text, chp_span, structure)\n",
        "span = get_text(text)[0]\n",
        "structure['Characters'] = span[1] - span[0]\n",
        "structures[story] = structure\n",
        "\n",
        "corpus = get_corpus('The Adventures of Sherlock Holmes')\n",
        "text = corpus.lower()\n",
        "structure = collections.defaultdict(int)\n",
        "adv_span = get_adventures(text, n=4)[0]\n",
        "count_text_structure(text, adv_span, structure)\n",
        "structure['Characters'] = adv_span[1] - adv_span[0]\n",
        "structures['The Boscombe Valley Mystery'] = structure\n",
        "\n",
        "pp = pprint.PrettyPrinter(indent=4)\n",
        "pp.pprint(structures)"
      ],
      "execution_count": null,
      "outputs": []
    },
    {
      "cell_type": "markdown",
      "metadata": {
        "id": "BeWCIOHwkvRC",
        "colab_type": "text"
      },
      "source": [
        "# Count character entities"
      ]
    },
    {
      "cell_type": "code",
      "metadata": {
        "id": "NUtoC_WUk4Z3",
        "colab_type": "code",
        "colab": {}
      },
      "source": [
        "def get_entity_variants(entity, *, invalid_entities=[]):\n",
        "    \"\"\"Given a string with whitespace, return all combinations.\"\"\"\n",
        "    variants = []\n",
        "    entity_parts = entity.split()\n",
        "    for i in range(len(entity_parts)):\n",
        "        for j in range(i+1, len(entity_parts)+1):\n",
        "            variant = ' '.join(entity_parts[i:j])\n",
        "            if variant not in invalid_entities:\n",
        "                variants.append(variant)\n",
        "    return variants\n",
        "\n",
        "\n",
        "def search_entity(entities, text, span=None, *, invalid_entities=[]):\n",
        "    if not isinstance(entities, (list, tuple, set)):\n",
        "        entities = [entities]\n",
        "\n",
        "    if span is None:\n",
        "        span = (0, len(text))\n",
        "\n",
        "    entities_map = collections.defaultdict(list)\n",
        "    for entity in entities:\n",
        "        entity_variants = get_entity_variants(\n",
        "            entity,\n",
        "            invalid_entities=invalid_entities,\n",
        "        )\n",
        "        entity_map = get_keywords_map(text, span, entity_variants)\n",
        "        if entity_map:\n",
        "            for spans in entity_map.values():\n",
        "                entities_map[entity].extend(spans)\n",
        "\n",
        "    _entities_map = collections.defaultdict(list)\n",
        "    for entity, spans in entities_map.items():\n",
        "        _entities_map[entity] = get_unique_spans(spans)\n",
        "    return _entities_map\n",
        "\n",
        "\n",
        "def combine_characters(characters_map):\n",
        "    characters = set()\n",
        "    for character in characters_map:\n",
        "        for name in character:\n",
        "            characters.add(name)\n",
        "    return characters\n",
        "\n",
        "\n",
        "def convert_spans_to_counts_map(spans_map):\n",
        "    return {\n",
        "        key:len(spans)\n",
        "        for key, spans in spans_map.items()\n",
        "    }\n",
        "\n",
        "\n",
        "invalid_entities = ['Mr.', 'Mrs.', 'Inspector', 'Major']\n",
        "\n",
        "stories_spans = {}\n",
        "stories_counts = {}\n",
        "for story in CORPUS_URL.keys():\n",
        "    stories_spans[story] = {}\n",
        "    stories_counts[story] = {}\n",
        "    corpus = get_corpus(story)\n",
        "    text = corpus.lower()\n",
        "\n",
        "    # Special case; story in compilation\n",
        "    if story == 'The Adventures of Sherlock Holmes':\n",
        "        story = 'The Boscombe Valley Mystery'\n",
        "\n",
        "    detectives = combine_characters(CHARACTERS[story]['detectives'])\n",
        "    for n, chp_span in enumerate(get_chapters(text), start=1):\n",
        "        stories_spans[story][n] = search_entity(detectives, corpus, chp_span, invalid_entities=invalid_entities)\n",
        "        stories_counts[story][n] = convert_spans_to_counts_map(stories_spans[story][n])\n",
        "\n",
        "print(stories_spans)\n",
        "print(stories_counts)"
      ],
      "execution_count": null,
      "outputs": []
    },
    {
      "cell_type": "code",
      "metadata": {
        "id": "GYRCzxjEli4z",
        "colab_type": "code",
        "colab": {
          "base_uri": "https://localhost:8080/",
          "height": 1000
        },
        "outputId": "648f638b-7690-4f0a-b935-4c48a059bb99"
      },
      "source": [
        "# Plot stories counts\n",
        "# for story in CORPUS_URL.keys():\n",
        "for story in ['The Valley of Fear']:\n",
        "    # Special case: story in compilation\n",
        "    if story == 'The Adventures of Sherlock Holmes':\n",
        "        story = 'The Boscombe Valley Mystery'\n",
        "    for chp, freq in stories_counts[story].items():\n",
        "        labels = list(freq.keys())\n",
        "        data = list(freq.values())\n",
        "        barplot(data, labels, xlabel=f'Detectives (Chp {chp})')"
      ],
      "execution_count": 25,
      "outputs": [
        {
          "output_type": "display_data",
          "data": {
            "image/png": "[encoded data removed]",
            "text/plain": [
              "<Figure size 432x288 with 1 Axes>"
            ]
          },
          "metadata": {
            "tags": [],
            "needs_background": "light"
          }
        },
        {
          "output_type": "display_data",
          "data": {
            "image/png": "[encoded data removed]",
            "text/plain": [
              "<Figure size 432x288 with 1 Axes>"
            ]
          },
          "metadata": {
            "tags": [],
            "needs_background": "light"
          }
        },
        {
          "output_type": "display_data",
          "data": {
            "image/png": "[encoded data removed]",
            "text/plain": [
              "<Figure size 432x288 with 1 Axes>"
            ]
          },
          "metadata": {
            "tags": [],
            "needs_background": "light"
          }
        },
        {
          "output_type": "display_data",
          "data": {
            "image/png": "[encoded data removed]",
            "text/plain": [
              "<Figure size 432x288 with 1 Axes>"
            ]
          },
          "metadata": {
            "tags": [],
            "needs_background": "light"
          }
        },
        {
          "output_type": "display_data",
          "data": {
            "image/png": "[encoded data removed]",
            "text/plain": [
              "<Figure size 432x288 with 1 Axes>"
            ]
          },
          "metadata": {
            "tags": [],
            "needs_background": "light"
          }
        },
        {
          "output_type": "display_data",
          "data": {
            "image/png": "[encoded data removed]",
            "text/plain": [
              "<Figure size 432x288 with 1 Axes>"
            ]
          },
          "metadata": {
            "tags": [],
            "needs_background": "light"
          }
        },
        {
          "output_type": "display_data",
          "data": {
            "image/png": "[encoded data removed]",
            "text/plain": [
              "<Figure size 432x288 with 1 Axes>"
            ]
          },
          "metadata": {
            "tags": [],
            "needs_background": "light"
          }
        },
        {
          "output_type": "display_data",
          "data": {
            "image/png": "[encoded data removed]",
            "text/plain": [
              "<Figure size 432x288 with 1 Axes>"
            ]
          },
          "metadata": {
            "tags": [],
            "needs_background": "light"
          }
        },
        {
          "output_type": "display_data",
          "data": {
            "image/png": "[encoded data removed]",
            "text/plain": [
              "<Figure size 432x288 with 1 Axes>"
            ]
          },
          "metadata": {
            "tags": [],
            "needs_background": "light"
          }
        },
        {
          "output_type": "display_data",
          "data": {
            "image/png": "[encoded data removed]",
            "text/plain": [
              "<Figure size 432x288 with 1 Axes>"
            ]
          },
          "metadata": {
            "tags": [],
            "needs_background": "light"
          }
        },
        {
          "output_type": "display_data",
          "data": {
            "image/png": "[encoded data removed]",
            "text/plain": [
              "<Figure size 432x288 with 1 Axes>"
            ]
          },
          "metadata": {
            "tags": [],
            "needs_background": "light"
          }
        },
        {
          "output_type": "display_data",
          "data": {
            "image/png": "[encoded data removed]",
            "text/plain": [
              "<Figure size 432x288 with 1 Axes>"
            ]
          },
          "metadata": {
            "tags": [],
            "needs_background": "light"
          }
        },
        {
          "output_type": "display_data",
          "data": {
            "image/png": "[encoded data removed]",
            "text/plain": [
              "<Figure size 432x288 with 1 Axes>"
            ]
          },
          "metadata": {
            "tags": [],
            "needs_background": "light"
          }
        },
        {
          "output_type": "display_data",
          "data": {
            "image/png": "[encoded data removed]",
            "text/plain": [
              "<Figure size 432x288 with 1 Axes>"
            ]
          },
          "metadata": {
            "tags": [],
            "needs_background": "light"
          }
        }
      ]
    }
  ]
}