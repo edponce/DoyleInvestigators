{
  "nbformat": 4,
  "nbformat_minor": 0,
  "metadata": {
    "colab": {
      "name": "Project1_NLP.ipynb",
      "provenance": [],
      "collapsed_sections": [],
      "toc_visible": true,
      "include_colab_link": true
    },
    "kernelspec": {
      "name": "python3",
      "display_name": "Python 3"
    }
  },
  "cells": [
    {
      "cell_type": "markdown",
      "metadata": {
        "id": "view-in-github",
        "colab_type": "text"
      },
      "source": [
        "<a href=\"https://colab.research.google.com/github/edponce/DoyleInvestigators/blob/master/Project1_NLP.ipynb\" target=\"_parent\"><img src=\"https://colab.research.google.com/assets/colab-badge.svg\" alt=\"Open In Colab\"/></a>"
      ]
    },
    {
      "cell_type": "code",
      "metadata": {
        "id": "D64o3VubPHvS",
        "colab_type": "code",
        "colab": {}
      },
      "source": [
        "import os\n",
        "import re\n",
        "import urllib.request\n",
        "import urllib.parse\n"
      ],
      "execution_count": 2,
      "outputs": []
    },
    {
      "cell_type": "markdown",
      "metadata": {
        "id": "bv7gPdfwPSxq",
        "colab_type": "text"
      },
      "source": [
        "###$\\color{brown}{\\rm Corpus~Selection}$"
      ]
    },
    {
      "cell_type": "code",
      "metadata": {
        "id": "Kbl0IcL4PQGL",
        "colab_type": "code",
        "colab": {}
      },
      "source": [
        "CORPUS_URL = {\n",
        "    'The Valley of Fear': \"http://www.gutenberg.org/files/3289/3289.txt\",\n",
        "    'A Study of Scarlet': \"http://www.gutenberg.org/files/244/244.txt\",\n",
        "    'The Sign of the Four': \"http://www.gutenberg.org/files/2097/2097.txt\",\n",
        "    'The Hound of the Baskervilles': \"http://www.gutenberg.org/files/2852/2852.txt\",\n",
        "}"
      ],
      "execution_count": 4,
      "outputs": []
    },
    {
      "cell_type": "markdown",
      "metadata": {
        "id": "EbEAIVRj7lbu",
        "colab_type": "text"
      },
      "source": [
        "###$\\color{brown}{\\rm Read~Web~Page~Content}$\n",
        "Read the corpus from web page to start processing. Use text in ASCII format (no BOMs) and remove Windows-based newlines '\\r'."
      ]
    },
    {
      "cell_type": "code",
      "metadata": {
        "id": "3AIatw6d7gUZ",
        "colab_type": "code",
        "colab": {}
      },
      "source": [
        "def get_corpus_from_url(url):\n",
        "    with urllib.request.urlopen(url) as fd:\n",
        "        # return fd.read().decode('ascii').replace('\\r', '')\n",
        "        return fd.read().decode('ascii')\n",
        "\n",
        "\n",
        "def get_corpus_from_file(file):\n",
        "    with open(file) as fd:\n",
        "        # return fd.read().replace('\\r', '')\n",
        "        return fd.read()\n",
        "\n",
        "\n",
        "def get_corpus(key):\n",
        "    def validate_url(url):\n",
        "        parsed_url = urllib.parse.urlparse(url)\n",
        "        return all([parsed_url.scheme, parsed_url.netloc, parsed_url.path])\n",
        "\n",
        "    # Check if a filename was provided\n",
        "    if os.path.isfile(key):\n",
        "        return get_corpus_from_file(key)\n",
        "    else:\n",
        "        file = os.path.basename(CORPUS_URL.get(key))\n",
        "        if os.path.isfile(file):\n",
        "            return get_corpus_from_file(file)\n",
        "\n",
        "    # Check if a URL was provided\n",
        "    if validate_url(key):\n",
        "        return get_corpus_from_url(key)\n",
        "    else:\n",
        "        url = CORPUS_URL.get(key)\n",
        "        if validate_url(url):\n",
        "            return get_corpus_from_url(url)"
      ],
      "execution_count": 5,
      "outputs": []
    },
    {
      "cell_type": "markdown",
      "metadata": {
        "id": "3q8QE-jl8q-0",
        "colab_type": "text"
      },
      "source": [
        "###$\\color{brown}{\\rm Split~into~Parts~and~Chapters}$\n",
        "CORE METHODS."
      ]
    },
    {
      "cell_type": "code",
      "metadata": {
        "id": "qFVpoNyQTRp0",
        "colab_type": "code",
        "colab": {}
      },
      "source": [
        "def get_gutenberg_start_tag(text):\n",
        "    \"\"\"Find Gutenberg's start tag (and producer, if available).\n",
        "\n",
        "    Notes:\n",
        "        * re.match() searches at the beginning of strings, but there are\n",
        "          certain character combinations that are not considered strings,\n",
        "          and thus need to use re.search(), even if it is at the beginning\n",
        "          of line. An example are the asterisks in the Gutenberg START\n",
        "          tag.\n",
        "    \"\"\"\n",
        "    return re.search(r'\\s+\\*{3} START (\\w+ )+\\*{3}\\s+(Produced by.+\\s+)?', text)\n",
        "\n",
        "\n",
        "def get_gutenberg_end_tag(text):\n",
        "    \"\"\"Find Gutenberg's end tag (and transcriber's notes, if available).\n",
        "\n",
        "    Notes:\n",
        "        * Duplicate/similar Gutenberg end tags.\n",
        "        * Use a newline before transcriber note to prevent matching similar\n",
        "          (but indented) notes at beginning of text.\n",
        "        * Use DOTALL flag to match footnotes across multiple lines.\n",
        "          Be wary of other regex parts that use dot operator, for example,\n",
        "          change '.+' to '[^\\n]+'.\n",
        "    \"\"\"\n",
        "    return re.search(r'((\\s+\\r?\\nOriginal transcriber.*)?\\s+End[^\\r\\n]+)?\\s+\\*{3} END (\\w+ )+\\*{3}\\s+', text, flags=re.I|re.DOTALL)\n",
        "\n",
        "\n",
        "def get_gutenberg_part_labels(text):\n",
        "    \"\"\"\n",
        "    Notes:\n",
        "        * We consider the start of the text when the first part/chapter starts.\n",
        "        * Arabic or Roman numbering.\n",
        "    \"\"\"\n",
        "    return list(re.finditer(r'\\r?\\n+(Part (\\d+|[IVX]+)(--|\\.)?.*)\\s+', text, flags=re.I))\n",
        "\n",
        "\n",
        "def get_gutenberg_chapter_labels(text):\n",
        "    \"\"\"\n",
        "    Notes:\n",
        "        * Arabic or Roman numbering.\n",
        "        * Some text have the chapter tag and title in different lines.\n",
        "    \"\"\"\n",
        "    return list(re.finditer(r'\\r?\\n+(Chapter (\\d+|[IVX]+)(--|\\.)?(.+|\\s+.+))\\s+', text, flags=re.I))"
      ],
      "execution_count": 6,
      "outputs": []
    },
    {
      "cell_type": "markdown",
      "metadata": {
        "id": "yoh4upkIhTf_",
        "colab_type": "text"
      },
      "source": [
        "Utility methods."
      ]
    },
    {
      "cell_type": "code",
      "metadata": {
        "id": "LOlmReiDeYdZ",
        "colab_type": "code",
        "colab": {}
      },
      "source": [
        "def get_part(corpus, n, part_labels=None):\n",
        "    \"\"\"Get span of part.\n",
        "\n",
        "    Args:\n",
        "        n (int): Natural number of parts [1-N]\n",
        "    \"\"\"\n",
        "    if part_labels is None:\n",
        "        part_labels = get_gutenberg_part_labels(corpus)\n",
        "\n",
        "    #get final chapter\n",
        "    if len(part_labels) == n:\n",
        "        etag = get_gutenberg_end_tag(corpus)\n",
        "        return (part_labels[n-1].end(), etag.start())\n",
        "    elif len(part_labels) > n:\n",
        "        return (part_labels[n-1].end(), part_labels[n].start())\n",
        "\n",
        "\n",
        "def get_parts(corpus, part_labels=None):\n",
        "    if part_labels is None:\n",
        "        part_labels = get_gutenberg_part_labels(corpus)\n",
        "\n",
        "    for n in range(1, len(part_labels) + 1):\n",
        "        yield get_part(corpus, n, part_labels)\n",
        "\n",
        "\n",
        "def get_chapter(corpus, n, part_num=None, chapter_labels=None):\n",
        "    \"\"\"Get span of part.\n",
        "\n",
        "    Args:\n",
        "        n (int): Natural number of chapters [1-N]\n",
        "\n",
        "        part_num (int): Natural number of parts [1-N]\n",
        "    \"\"\"\n",
        "    if chapter_labels is None:\n",
        "        chapter_labels = get_gutenberg_chapter_labels(corpus)\n",
        "\n",
        "    #get final chapter\n",
        "    if len(chapter_labels) == n:\n",
        "        etag = get_gutenberg_end_tag(corpus)\n",
        "        return (chapter_labels[n-1].end(), etag.start())\n",
        "    elif len(chapter_labels) > n:\n",
        "        return (chapter_labels[n-1].end(), chapter_labels[n].start())\n",
        "\n",
        "\n",
        "def get_chapters(corpus, part_num=None, chapter_labels=None):\n",
        "    if chapter_labels is None:\n",
        "        chapter_labels = get_gutenberg_chapter_labels(corpus)\n",
        "\n",
        "    for n in range(1, len(chapter_labels) + 1):\n",
        "        yield get_chapter(corpus, n, chapter_labels)"
      ],
      "execution_count": 7,
      "outputs": []
    },
    {
      "cell_type": "markdown",
      "metadata": {
        "id": "BA8jVevEiDo0",
        "colab_type": "text"
      },
      "source": [
        "###$\\color{brown}{\\rm Preprocess~Corpus}$\n"
      ]
    },
    {
      "cell_type": "code",
      "metadata": {
        "id": "tAqfGF9pTXsi",
        "colab_type": "code",
        "colab": {}
      },
      "source": [
        "def preprocess_text(key):\n",
        "    corpus = get_corpus(key)\n",
        "\n",
        "    #match pattern for parts\n",
        "    part_labels = get_gutenberg_part_labels(corpus)\n",
        "    for label in part_labels:\n",
        "       print(label.group(1))\n",
        "       print(label.span())\n",
        "    \n",
        "    #get chapters\n",
        "    chapter_labels = get_gutenberg_chapter_labels(corpus)\n",
        "    print(len(chapter_labels))\n",
        "    for label in chapter_labels:\n",
        "       print(label.group(1))\n",
        "       print(label.span())\n",
        "\n",
        "    start = get_gutenberg_start_tag(corpus)\n",
        "    print(start)\n",
        "\n",
        "    end = get_gutenberg_end_tag(corpus)\n",
        "    print(end)\n",
        "    \n",
        "    print()\n",
        "    print()\n",
        "\n",
        "    return corpus"
      ],
      "execution_count": 40,
      "outputs": []
    },
    {
      "cell_type": "code",
      "metadata": {
        "id": "Y63vLBPBTvFT",
        "colab_type": "code",
        "colab": {}
      },
      "source": [
        "for title in CORPUS_URL:\n",
        "    _ = preprocess_text(title)\n",
        "#preprocess_text('The Valley of Fear')"
      ],
      "execution_count": null,
      "outputs": []
    },
    {
      "cell_type": "code",
      "metadata": {
        "id": "RhMZASgpefRA",
        "colab_type": "code",
        "colab": {
          "base_uri": "https://localhost:8080/",
          "height": 303
        },
        "outputId": "f7d2515c-52de-4a22-d6bd-ab9d16e8ea51"
      },
      "source": [
        "corpus = get_corpus('The Valley of Fear')\n",
        "for span in get_parts(corpus):\n",
        "    print(span)\n",
        "print()\n",
        "\n",
        "for span in get_chapters(corpus):\n",
        "    print(span)"
      ],
      "execution_count": null,
      "outputs": [
        {
          "output_type": "stream",
          "text": [
            "(771, 153689)\n",
            "(153721, 319492)\n",
            "(801, 17939)\n",
            "(17986, 33442)\n",
            "(33487, 52437)\n",
            "(52466, 73646)\n",
            "(73690, 96090)\n",
            "(96126, 121939)\n",
            "(121972, 153719)\n",
            "(153747, 170689)\n",
            "(170724, 200887)\n",
            "(200927, 231816)\n",
            "(231855, 251720)\n",
            "(251757, 277403)\n",
            "(277430, 295748)\n",
            "(295798, 319492)\n"
          ],
          "name": "stdout"
        }
      ]
    }
  ]
}