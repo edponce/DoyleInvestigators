{
  "nbformat": 4,
  "nbformat_minor": 0,
  "metadata": {
    "colab": {
      "name": "Project1_NLP.ipynb",
      "provenance": [],
      "collapsed_sections": [],
      "toc_visible": true,
      "include_colab_link": true
    },
    "kernelspec": {
      "name": "python3",
      "display_name": "Python 3"
    }
  },
  "cells": [
    {
      "cell_type": "markdown",
      "metadata": {
        "id": "view-in-github",
        "colab_type": "text"
      },
      "source": [
        "<a href=\"https://colab.research.google.com/github/edponce/DoyleInvestigators/blob/master/Project1_NLP.ipynb\" target=\"_parent\"><img src=\"https://colab.research.google.com/assets/colab-badge.svg\" alt=\"Open In Colab\"/></a>"
      ]
    },
    {
      "cell_type": "code",
      "metadata": {
        "id": "D64o3VubPHvS",
        "colab_type": "code",
        "colab": {}
      },
      "source": [
        "import os\n",
        "import re\n",
        "import collections\n",
        "import urllib.request\n",
        "import urllib.parse\n",
        "import numpy as np\n",
        "import seaborn as sns  # 0.10.1 (0.11 fails in histogram plot)\n",
        "import pandas\n",
        "import matplotlib.pyplot as plt"
      ],
      "execution_count": null,
      "outputs": []
    },
    {
      "cell_type": "markdown",
      "metadata": {
        "id": "bv7gPdfwPSxq",
        "colab_type": "text"
      },
      "source": [
        "###$\\color{brown}{\\rm Corpus~Selection}$"
      ]
    },
    {
      "cell_type": "code",
      "metadata": {
        "id": "Kbl0IcL4PQGL",
        "colab_type": "code",
        "colab": {}
      },
      "source": [
        "CORPUS_URL = {\n",
        "    'The Valley of Fear': \"http://www.gutenberg.org/files/3289/3289.txt\",\n",
        "    'A Study of Scarlet': \"http://www.gutenberg.org/files/244/244.txt\",\n",
        "    'The Sign of the Four': \"http://www.gutenberg.org/files/2097/2097.txt\",\n",
        "    'The Hound of the Baskervilles': \"http://www.gutenberg.org/files/2852/2852.txt\",\n",
        "    'The Boscombe Valley Mystery': 'https://www.gutenberg.org/files/1661/1661.txt',\n",
        "}"
      ],
      "execution_count": null,
      "outputs": []
    },
    {
      "cell_type": "markdown",
      "metadata": {
        "id": "EbEAIVRj7lbu",
        "colab_type": "text"
      },
      "source": [
        "###$\\color{brown}{\\rm Read~Web~Page~Content}$\n",
        "Read the corpus from web page or file to start processing."
      ]
    },
    {
      "cell_type": "code",
      "metadata": {
        "id": "3AIatw6d7gUZ",
        "colab_type": "code",
        "colab": {}
      },
      "source": [
        "def get_corpus_from_url(url):\n",
        "    with urllib.request.urlopen(url) as fd:\n",
        "        text = fd.read()\n",
        "        try:\n",
        "            return text.decode('utf-8')\n",
        "        except UnicodeDecodeError:\n",
        "            return text.decode('iso-8859-1')\n",
        "\n",
        "\n",
        "def get_corpus_from_file(file):\n",
        "    with open(file) as fd:\n",
        "        return fd.read()\n",
        "\n",
        "\n",
        "def get_corpus(key):\n",
        "    def validate_url(url):\n",
        "        parsed_url = urllib.parse.urlparse(url)\n",
        "        return all([parsed_url.scheme, parsed_url.netloc, parsed_url.path])\n",
        "\n",
        "    # Check if a filename was provided\n",
        "    if os.path.isfile(key):\n",
        "        return get_corpus_from_file(key)\n",
        "    else:\n",
        "        if key in CORPUS_URL:\n",
        "            file = os.path.basename(CORPUS_URL[key])\n",
        "            if os.path.isfile(file):\n",
        "                return get_corpus_from_file(file)\n",
        "\n",
        "    # Check if a URL was provided\n",
        "    if validate_url(key):\n",
        "        return get_corpus_from_url(key)\n",
        "    else:\n",
        "        if key in CORPUS_URL:\n",
        "            url = CORPUS_URL[key]\n",
        "            if validate_url(url):\n",
        "                return get_corpus_from_url(url)\n",
        "\n",
        "    raise Exception(f\"corpus '{key}' not found\")"
      ],
      "execution_count": null,
      "outputs": []
    },
    {
      "cell_type": "markdown",
      "metadata": {
        "id": "3q8QE-jl8q-0",
        "colab_type": "text"
      },
      "source": [
        "###$\\color{brown}{\\rm Regex~for~Headings}$\n",
        "Functions to get spans of headings (Gutenberg tags, parts, chapters, adventures, etc.)"
      ]
    },
    {
      "cell_type": "code",
      "metadata": {
        "id": "qFVpoNyQTRp0",
        "colab_type": "code",
        "colab": {}
      },
      "source": [
        "def get_newline_index(text):\n",
        "    \"\"\"Find the index of the first newline in the text.\n",
        "    This is used to skip/correct one newline at beginning of headings.\n",
        "    \"\"\"\n",
        "    match = re.match(r'[ \\t\\r]*\\n', text)\n",
        "    return match.end() if match else 0\n",
        "\n",
        "\n",
        "def get_gutenberg_start_heading(text, span=None):\n",
        "    \"\"\"Find Gutenberg's start tag (and producer, if available).\n",
        "\n",
        "    Notes:\n",
        "        * re.match() searches at the beginning of strings, but there are\n",
        "          certain character combinations that are not considered strings,\n",
        "          and thus need to use re.search(), even if it is at the beginning\n",
        "          of line. An example are the asterisks in the Gutenberg START\n",
        "          tag.\n",
        "    \"\"\"\n",
        "    if not span:\n",
        "        span = (0, len(text))\n",
        "\n",
        "    match = re.search(\n",
        "        r'(\\s*\\n){2,}'  # pre-whitespace, no indentation\n",
        "        r'\\*{3}\\s*'  # 3 asterisks\n",
        "        r'start[^\\r\\n]+'  # tag text\n",
        "        r'\\s*\\*{3}'  # 3 asterisks\n",
        "        r'(\\s*\\nproduced by.+)?'  # producer line\n",
        "        r'(\\s*\\n){2,}',  # post-whitespace\n",
        "        text[span[0]:span[1]],\n",
        "    )\n",
        "\n",
        "    if match:\n",
        "        span = match.span()\n",
        "        offs = get_newline_index(text[span[0]:span[1]])\n",
        "        return span[0] + offs, span[1]\n",
        "\n",
        "\n",
        "def get_gutenberg_end_heading(text, span=None):\n",
        "    \"\"\"Find Gutenberg's end tag (and transcriber's notes, if available).\n",
        "\n",
        "    Notes:\n",
        "        * Duplicate/similar Gutenberg end tags.\n",
        "        * Use a newline before transcriber note to prevent matching similar\n",
        "          (but indented) notes at beginning of text.\n",
        "        * Use DOTALL flag to match transcriber's notes across multiple lines.\n",
        "          But be wary that using DOTALL prevents the use of '.+' for other\n",
        "          cases, so use '[^\\r\\n]' instead.\n",
        "    \"\"\"\n",
        "    if not span:\n",
        "        span = (0, len(text))\n",
        "\n",
        "    match = re.search(\n",
        "        r'('\n",
        "        r'(\\s*\\n){2,}'  # pre-whitespace, no indentation\n",
        "        r'(original transcriber.+\\s*\\n)?'  # transcriber notes\n",
        "        r'end[^\\r\\n]+'  # duplicate/similar tag text\n",
        "        r')?'\n",
        "        r'\\s*\\n'  # pre-whitespace, no indentation\n",
        "        r'\\*{3}\\s*'  # 3 asterisks\n",
        "        r\"end[^\\r\\n]+\"  # tag text\n",
        "        r'\\s*\\*{3}'  # 3 asterisks\n",
        "        r'(\\s*\\n){2,}',  # post-whitespace\n",
        "        text[span[0]:span[1]],\n",
        "        flags=re.DOTALL,\n",
        "    )\n",
        "\n",
        "    if match:\n",
        "        span = match.span()\n",
        "        offs = get_newline_index(text[span[0]:span[1]])\n",
        "        return span[0] + offs, span[1]\n",
        "\n",
        "\n",
        "def get_named_headings(text, name, span=None):\n",
        "    \"\"\"Find named headings with title.\"\"\"\n",
        "    if not span:\n",
        "        span = (0, len(text))\n",
        "\n",
        "    spans = [\n",
        "        (match.start() + span[0], match.end() + span[0])\n",
        "        for match in re.finditer(\n",
        "            r'(\\s*\\n){2,}'  # pre-whitespace, no indentation\n",
        "            r'('\n",
        "            fr'{name}[ \\t]+(\\d+|[ivxlcd]+)'  # label with Arabic or Roman numbering\n",
        "            r'(-+|\\.)?'  # label-title delimiter\n",
        "            r'((\\s*\\n){2})?'  # whitespace for titles two line apart\n",
        "            r'.*(\\r?\\n.*)?'  # title (muti-line support)\n",
        "            r'|'  # cases: name # \\s* label, # name/label\n",
        "            r'(\\d+|[ivxlcd]+)'  # label with Arabic or Roman numbering\n",
        "            r'(-+|\\.)?'  # label-title delimiter\n",
        "            fr'[ \\t]+.*{name}.*'  # label with name\n",
        "            r')'\n",
        "            r'(\\s*\\n){2,}',  # post-whitespace\n",
        "            text[span[0]:span[1]],\n",
        "        )\n",
        "    ]\n",
        "\n",
        "    if spans:\n",
        "        _spans = []\n",
        "        for _span in spans:\n",
        "            offs = get_newline_index(text[_span[0]:_span[1]])\n",
        "            _spans.append((_span[0] + offs, _span[1]))\n",
        "        return _spans\n",
        "\n",
        "\n",
        "def get_numbered_headings(text, span=None):\n",
        "    \"\"\"Find numbered headings with no title.\"\"\"\n",
        "    if not span:\n",
        "        span = (0, len(text))\n",
        "\n",
        "    spans = [\n",
        "        (match.start() + span[0], match.end() + span[0])\n",
        "        for match in re.finditer(\n",
        "            r'(\\s*\\n){2,}'  # pre-whitespace, no indentation\n",
        "            fr'(\\d+|[ivxlcd]+)'  # label with Arabic or Roman numbering\n",
        "            r'(-+|\\.)'  # label-title delimiter\n",
        "            r'(\\s*\\n){2,}',  # post-whitespace\n",
        "            text[span[0]:span[1]]\n",
        "        )\n",
        "    ]\n",
        "\n",
        "    if spans:\n",
        "        _spans = []\n",
        "        for _span in spans:\n",
        "            offs = get_newline_index(text[_span[0]:_span[1]])\n",
        "            _spans.append((_span[0] + offs, _span[1]))\n",
        "        return _spans\n",
        "\n",
        "\n",
        "def get_epilogue_heading(text, span=None):\n",
        "    if not span:\n",
        "        span = (0, len(text))\n",
        "\n",
        "    match = re.search(\n",
        "        r'(\\s*\\n){2,}'  # pre-whitespace, no indentation\n",
        "        r'epilogue'  # tag text\n",
        "        r'(\\s*\\n){2,}',  # post-whitespace\n",
        "        text[span[0]:span[1]]\n",
        "    )\n",
        "\n",
        "    if match:\n",
        "        span = match.span()\n",
        "        offs = get_newline_index(text[span[0]:span[1]])\n",
        "        return span[0] + offs, span[1]"
      ],
      "execution_count": null,
      "outputs": []
    },
    {
      "cell_type": "markdown",
      "metadata": {
        "id": "yoh4upkIhTf_",
        "colab_type": "text"
      },
      "source": [
        "Functions to get spans of ROI and corresponding text."
      ]
    },
    {
      "cell_type": "code",
      "metadata": {
        "id": "PH5HWEjvKShk",
        "colab_type": "code",
        "colab": {}
      },
      "source": [
        "def get_headings_map(\n",
        "    text,\n",
        "    headings=['part', 'chapter', 'adventure', 'epilogue', 'numbered'],\n",
        "):\n",
        "    \"\"\"Create a list of all heading spans, guarantees at least one set\n",
        "    of bounding spans.\n",
        "\n",
        "    Args:\n",
        "        headings (str, List[str]): Heading names to search for.\n",
        "    \"\"\"\n",
        "    if not isinstance(headings, list):\n",
        "        headings = [headings]\n",
        "\n",
        "    headings_map = {}\n",
        "    _headings_map = {}\n",
        "\n",
        "    # Always available heading, all text\n",
        "    text_heading = '_text_'\n",
        "\n",
        "    # Ensure there is always a begin \"span\"\n",
        "    start_span = get_gutenberg_start_heading(text)\n",
        "    if not start_span:\n",
        "        start_span = 0, 0\n",
        "\n",
        "    # Ensure there is always an end \"span\"\n",
        "    end_span = get_gutenberg_end_heading(text)\n",
        "    if not end_span:\n",
        "        end_span = len(text), len(text)\n",
        "    headings_map[text_heading] = [start_span, end_span]\n",
        "    if text_heading in headings:\n",
        "        headings.remove(text_heading)\n",
        "\n",
        "    # Optional\n",
        "    span = get_epilogue_heading(text)\n",
        "    if span:\n",
        "        heading = 'epilogue'\n",
        "        _headings_map[heading] = [span, headings_map[text_heading][1]]\n",
        "        if heading in headings:\n",
        "            headings_map[heading] = _headings_map[heading]\n",
        "            headings.remove(heading)\n",
        "\n",
        "    # Optional\n",
        "    spans = get_numbered_headings(text)\n",
        "    if spans:\n",
        "        heading = 'numbered'\n",
        "        _headings_map[heading] = spans\n",
        "        if heading in headings:\n",
        "            headings_map[heading] = _headings_map[heading]\n",
        "            headings.remove(heading)\n",
        "\n",
        "    # Optional\n",
        "    if headings:\n",
        "        for heading in headings:\n",
        "            spans = get_named_headings(text, heading)\n",
        "            if spans:\n",
        "                headings_map[heading] = spans\n",
        "                if 'epilogue' in _headings_map:\n",
        "                    headings_map[heading].append(_headings_map['epilogue'][0])\n",
        "                else:\n",
        "                    headings_map[heading].append(headings_map[text_heading][1])\n",
        "    return headings_map\n",
        "\n",
        "\n",
        "def get_rois(text, name=None, num=None, *, headings_map=None):\n",
        "    \"\"\"Get span bounding a ROI.\n",
        "\n",
        "    Args:\n",
        "        name (str): ROI\n",
        "\n",
        "        num (int, Iterable[int]): Number of ROI, [1,N]\n",
        "    \"\"\"\n",
        "    if not headings_map:\n",
        "        headings_map = get_headings_map(text)\n",
        "\n",
        "    # Always available heading, all text\n",
        "    text_heading = '_text_'\n",
        "\n",
        "    rois = []\n",
        "    if not name:\n",
        "        rois = [(headings_map[text_heading][0][1], headings_map[text_heading][1][0])]\n",
        "    elif name in headings_map:\n",
        "        spans = headings_map[name]\n",
        "        if num is None:\n",
        "            rois = [\n",
        "                (spans[i][1], spans[i + 1][0])\n",
        "                for i in range(len(spans) - 1)\n",
        "            ]\n",
        "        else:\n",
        "            rois = [\n",
        "                (spans[i - 1][1], spans[i][0])\n",
        "                for i in ([num] if isinstance(num, int) else num)\n",
        "                if i >= 1 and i < (len(spans))\n",
        "            ]\n",
        "\n",
        "    if rois:\n",
        "        # If necessary, skip last inner heading\n",
        "        _rois = []\n",
        "        for roi in rois:\n",
        "            value = roi[1]\n",
        "            for spans in headings_map.values():\n",
        "                for span in spans:\n",
        "                    if roi[1] > span[0] and roi[1] <= span[1]:\n",
        "                        value = span[0]\n",
        "            _rois.append((roi[0], value))\n",
        "        return _rois\n",
        "\n",
        "\n",
        "def get_text(text, span):\n",
        "    if isinstance(span[0], int):\n",
        "        span = [span]\n",
        "\n",
        "    roi = ''\n",
        "    for _span in span:\n",
        "        roi += text[_span[0]:_span[1]]\n",
        "    return roi"
      ],
      "execution_count": null,
      "outputs": []
    },
    {
      "cell_type": "markdown",
      "metadata": {
        "id": "NDKPlDXyfj3e",
        "colab_type": "text"
      },
      "source": [
        "### To revisit"
      ]
    },
    {
      "cell_type": "code",
      "metadata": {
        "id": "LOlmReiDeYdZ",
        "colab_type": "code",
        "colab": {}
      },
      "source": [
        "def get_part(text, part_num, *, part_labels=None):\n",
        "    \"\"\"Get span of a selected part.\n",
        "\n",
        "    Args:\n",
        "        part_num (int): Natural number of parts [1-N]\n",
        "    \"\"\"\n",
        "    # NOTE: This can be a required parameter, but simplifies invocation of this function.\n",
        "    if part_labels is None:\n",
        "        part_labels = get_gutenberg_part_labels(text)\n",
        "    if part_num < 1 or part_num > len(part_labels):\n",
        "        raise Exception('part number out-of-range')\n",
        "\n",
        "    start = part_labels[part_num - 1].end()\n",
        "    if part_num == len(part_labels):\n",
        "        epilogue_label = get_gutenberg_epilogue_label(text)\n",
        "        end = (\n",
        "            epilogue_label.start()\n",
        "            if epilogue_label\n",
        "            else get_gutenberg_end_tag(text).start()\n",
        "        )\n",
        "    else:\n",
        "        end = part_labels[part_num].start()\n",
        "    return start, end\n",
        "\n",
        "\n",
        "def get_parts(text):\n",
        "    part_labels = get_gutenberg_part_labels(text)\n",
        "    for part_num in range(1, len(part_labels) + 1):\n",
        "        yield get_part(text, part_num, part_labels=part_labels)\n",
        "\n",
        "\n",
        "def get_chapter(text, chapter_num, part_num=None, *, chapter_labels=None, part_labels=None):\n",
        "    \"\"\"Get span of chapter.\n",
        "\n",
        "    Args:\n",
        "        chapter_num (int): Natural number of chapters [1-N]\n",
        "\n",
        "        part_num (int): Natural number of parts [1-N]\n",
        "    \"\"\"\n",
        "    # NOTE: This can be a required value. This simplifies invocation of this function.\n",
        "    if chapter_labels is None:\n",
        "        chapter_labels = get_gutenberg_chapter_labels(text)\n",
        "    if chapter_num < 1 or chapter_num > len(chapter_labels):\n",
        "        raise Exception('chapter number out-of-range')\n",
        "\n",
        "    if part_labels is None:\n",
        "        part_labels = get_gutenberg_part_labels(text)\n",
        "    if part_num is not None and (part_num < 1 or part_num > len(part_labels)):\n",
        "        raise Exception('part number out-of-range')\n",
        "\n",
        "    if part_num is not None:\n",
        "        # Filter chapters not found in selected part\n",
        "        part = get_part(text, part_num, part_labels=part_labels)\n",
        "        chapter_labels = [\n",
        "            label\n",
        "            for label in chapter_labels\n",
        "            if label.end() >= part[0] and label.end() <= part[1]\n",
        "        ]\n",
        "\n",
        "    # Last chapter\n",
        "    start = chapter_labels[chapter_num - 1].end()\n",
        "    if chapter_num == len(chapter_labels):\n",
        "        # Last chapter of last part\n",
        "        if part_num is None or part_num == len(part_labels):\n",
        "            epilogue_label = get_gutenberg_epilogue_label(text)\n",
        "            end = (\n",
        "                epilogue_label.start()\n",
        "                if epilogue_label\n",
        "                else get_gutenberg_end_tag(text).start()\n",
        "            )\n",
        "        # Last chapter of intermediate part\n",
        "        elif part_num is None:\n",
        "            end = chapter_labels[chapter_num].start()\n",
        "        else:\n",
        "            end = part[1]\n",
        "    else:\n",
        "        end = chapter_labels[chapter_num].start()\n",
        "    return start, end\n",
        "\n",
        "\n",
        "def get_chapters(text, part_num=None):\n",
        "    \"\"\"Get iterator of chapter spans.\n",
        "\n",
        "    Args:\n",
        "        part_num (int): Natural number of parts [1-N]\n",
        "    \"\"\"\n",
        "    chapter_labels = get_gutenberg_chapter_labels(text)\n",
        "    part_labels = get_gutenberg_part_labels(text)\n",
        "\n",
        "    # Text has parts\n",
        "    if part_labels:\n",
        "        if part_num is not None and (part_num < 1 or part_num > len(part_labels)):\n",
        "            raise Exception('part number out-of-range')\n",
        "\n",
        "        for part_num in (\n",
        "            range(1, len(part_labels) + 1)\n",
        "            if part_num is None\n",
        "            else range(part_num, part_num + 1)\n",
        "        ):\n",
        "            # Filter chapters not found in current part\n",
        "            part = get_part(text, part_num, part_labels=part_labels)\n",
        "            _chapter_labels = [\n",
        "                label\n",
        "                for label in chapter_labels if label.end() >= part[0] and label.end() <= part[1]\n",
        "            ]\n",
        "            for chapter_num in range(1, len(_chapter_labels) + 1):\n",
        "                yield get_chapter(text, chapter_num, part_num, chapter_labels=_chapter_labels, part_labels=part_labels)\n",
        "\n",
        "    # Text does not has parts\n",
        "    else:\n",
        "        if part_num is not None:\n",
        "            print('Warning: no parts found, so part-related parameters are ignored')\n",
        "        for chapter_num in range(1, len(chapter_labels) + 1):\n",
        "            yield get_chapter(text, chapter_num, chapter_labels=chapter_labels)"
      ],
      "execution_count": null,
      "outputs": []
    },
    {
      "cell_type": "markdown",
      "metadata": {
        "id": "h_A4do2w4m1u",
        "colab_type": "text"
      },
      "source": [
        "# Tokenization\n",
        "Get paragraphs, sentences, tokens/words"
      ]
    },
    {
      "cell_type": "code",
      "metadata": {
        "id": "FUievT-74mIp",
        "colab_type": "code",
        "colab": {}
      },
      "source": [
        "def tokenize(text, span, regex, *, use_remaining=False):\n",
        "    def _get_tokens(text):\n",
        "        return [\n",
        "            match.span()\n",
        "            for match in re.finditer(regex, text)\n",
        "        ]\n",
        "\n",
        "    # Get tokens from text\n",
        "    # Add base offset to tokens' spans\n",
        "    tokens = [\n",
        "        (tok_span[0]+span[0], tok_span[1]+span[0])\n",
        "        for tok_span in _get_tokens(text[span[0]:span[1]])\n",
        "    ]\n",
        "\n",
        "    if use_remaining:\n",
        "        if tokens:\n",
        "            # Extend last token to end of text\n",
        "            tokens[-1] = tokens[-1][0], span[1]\n",
        "        else:\n",
        "            # Consider all text as the token\n",
        "            tokens = [span]\n",
        "\n",
        "    return tokens\n",
        "\n",
        "\n",
        "def get_paragraphs(text, span):\n",
        "    return tokenize(\n",
        "        text,\n",
        "        span,\n",
        "        r'('\n",
        "        r'([^\\r\\n]+\\r?\\n)+'  # (regular text with newline)+\n",
        "        r'('\n",
        "        r'(\\r?\\n)+'  # (newline)+\n",
        "        r'[^a-zA-Z]'  # non-alpha character: quote, number, etc.\n",
        "        r')?'  # handles case of multiple newlines but still same paragraph\n",
        "        r')+',  # (full regex)+\n",
        "        use_remaining=True,\n",
        "    )\n",
        "\n",
        "\n",
        "def get_sentences(text, span):\n",
        "    return tokenize(\n",
        "        text,\n",
        "        span,\n",
        "        # r'[^.;!?\\s]+'  # sentence begins without punctuations nor whitespace\n",
        "        # r'('\n",
        "        # r'((\\r?\\n)?[^.;!?\\r\\n]+)?'  # sentence can be across newlines\n",
        "        # r'[.;!?][\\'\"]?'  # sentence ends with a punctuation (and quotes)\n",
        "\n",
        "        # r'(M[rR][sS]?\\.\\s)?M?'\n",
        "        # r')',\n",
        "\n",
        "        r'(([^\\.\\r\\n;M!]+\\n?)+(.\")?(M[rR][sS]?\\.\\s)?(M)?)+|M[rR][sS]?\\.\\s([^\\.;M!]+(.\")?(M[rR][sS]?\\.\\s)?(M)?)+',\n",
        "    )\n",
        "\n",
        "\n",
        "def get_tokens(text, span):\n",
        "    return tokenize(\n",
        "        text,\n",
        "        span,\n",
        "        r'\\w+'  # compound alphanumeric words\n",
        "        r'('\n",
        "        r\"'\\w+\"  # contractions\n",
        "        r'|(-\\w+)+'  # tokens with inlined dashes\n",
        "        r')'\n",
        "        r'|\\w+'  # single alphanumeric words\n",
        "        r'|\\$?-?\\d+(,\\d+)*(\\.\\d+)?',  # numbers, decimals, monetary\n",
        "    )"
      ],
      "execution_count": null,
      "outputs": []
    },
    {
      "cell_type": "markdown",
      "metadata": {
        "colab_type": "text",
        "id": "6e_Pyk86Kr0o"
      },
      "source": [
        "# Frequency Count\n",
        "For vocabulary and keywords/entities"
      ]
    },
    {
      "cell_type": "code",
      "metadata": {
        "id": "UOEgIn2Cnbcb",
        "colab_type": "code",
        "colab": {}
      },
      "source": [
        "def get_keywords_map(text, span, keywords, *, spans_map=None):\n",
        "    if spans_map is None:\n",
        "        spans_map = collections.defaultdict(list)\n",
        "\n",
        "    # NOTE: Doesn't handle cases where keyword is a subpart of a non-keyword token)\n",
        "    for kw in keywords:\n",
        "        spans_map[kw].extend(tokenize(\n",
        "            text,\n",
        "            span,\n",
        "            fr'{kw}',  # exact search\n",
        "        ))\n",
        "    return spans_map\n",
        "\n",
        "\n",
        "def generate_frequency_map(spans_map, *, threshold=None):\n",
        "    freq = collections.defaultdict(int)\n",
        "    for k, v in spans_map.items():\n",
        "        if threshold is None or len(v) >= threshold:\n",
        "            freq[k] = len(v)\n",
        "    return freq\n",
        "\n",
        "\n",
        "def get_vocabulary(text, span, *, vocab=None):\n",
        "    return (\n",
        "        list(vocab) if vocab else []\n",
        "    ) + [\n",
        "        get_text(text, token_span)\n",
        "        for token_span in get_tokens(text, span)\n",
        "    ]\n",
        "\n",
        "\n",
        "def get_vocabulary_map(text, span, *, spans_map=None):\n",
        "    if spans_map is None:\n",
        "        spans_map = collections.defaultdict(list)\n",
        "\n",
        "    for token_span in get_tokens(text, span):\n",
        "        token = get_text(text, token_span)\n",
        "        spans_map[token].append(token_span)\n",
        "    return spans_map"
      ],
      "execution_count": null,
      "outputs": []
    },
    {
      "cell_type": "markdown",
      "metadata": {
        "id": "BA8jVevEiDo0",
        "colab_type": "text"
      },
      "source": [
        "###$\\color{brown}{\\rm Process~Corpus}$\n"
      ]
    },
    {
      "cell_type": "code",
      "metadata": {
        "id": "tAqfGF9pTXsi",
        "colab_type": "code",
        "colab": {
          "base_uri": "https://localhost:8080/",
          "height": 499
        },
        "outputId": "2d012df9-612b-4039-ab93-9136d76cc0e8"
      },
      "source": [
        "entities = {\n",
        "    'sherlock', 'holmes', 'i', 'doctor'\n",
        "    'perpetrator', 'murder', 'detective', 'crime', 'death'\n",
        "}\n",
        "\n",
        "# The Valley of Fear: I = Watson (outside of quotes)\n",
        "\n",
        "corpus = get_corpus('The Valley of Fear')\n",
        "# corpus = get_corpus('A Study of Scarlet')\n",
        "_corpus = corpus.lower()\n",
        "for chapter_num, chapter_span in enumerate(get_chapters(_corpus), start=1):\n",
        "    print('=' * 40)\n",
        "    print(f'Chapter {chapter_num} - {chapter_span}')\n",
        "    print('=' * 40)\n",
        "    # print(corpus[chapter_span[0]:chapter_span[1]])\n",
        "\n",
        "    for par_span in get_paragraphs(corpus, chapter_span):\n",
        "        print(par_span)\n",
        "        print(corpus[par_span[0]:par_span[1]])\n",
        "        print('-' * 40)\n",
        "\n",
        "        for sent_span in get_sentences(corpus, par_span):\n",
        "            print(sent_span, corpus[sent_span[0]:sent_span[1]])\n",
        "\n",
        "            for tok_span in get_tokens(corpus, sent_span):\n",
        "                print(tok_span, corpus[tok_span[0]:tok_span[1]])\n",
        "        break\n",
        "    #print(find_entities(_corpus, chapter_span, entities))\n",
        "    #print(get_vocabulary(_corpus, chapter_span))\n",
        "    #print(generate_vocabulary_frequency(_corpus, chapter_span))\n",
        "    break"
      ],
      "execution_count": null,
      "outputs": [
        {
          "output_type": "stream",
          "text": [
            "========================================\n",
            "Chapter 1 - (801, 17931)\n",
            "========================================\n",
            "(801, 896)\n",
            "\"I am inclined to think--\" said I.\r\n",
            "\r\n",
            "\"I should do so,\" Sherlock Holmes remarked impatiently.\r\n",
            "\n",
            "----------------------------------------\n",
            "(801, 834) \"I am inclined to think--\" said I\n",
            "(802, 803) I\n",
            "(804, 806) am\n",
            "(807, 815) inclined\n",
            "(816, 818) to\n",
            "(819, 824) think\n",
            "(828, 832) said\n",
            "(833, 834) I\n",
            "(839, 896) \"I should do so,\" Sherlock Holmes remarked impatiently.\r\n",
            "\n",
            "(840, 841) I\n",
            "(842, 848) should\n",
            "(849, 851) do\n",
            "(852, 854) so\n",
            "(857, 865) Sherlock\n",
            "(866, 872) Holmes\n",
            "(873, 881) remarked\n",
            "(882, 893) impatiently\n"
          ],
          "name": "stdout"
        }
      ]
    },
    {
      "cell_type": "markdown",
      "metadata": {
        "id": "Dg59EqZHUi1l",
        "colab_type": "text"
      },
      "source": [
        "###$\\color{brown}{\\rm Visualization~methods}$"
      ]
    },
    {
      "cell_type": "code",
      "metadata": {
        "id": "5suCpM1DUh9n",
        "colab_type": "code",
        "colab": {
          "base_uri": "https://localhost:8080/",
          "height": 300
        },
        "outputId": "0f899040-0d9e-427c-d5c4-d345200b81ab"
      },
      "source": [
        "def visualize_co_occurrence(data, keywords_rows, closeness_words_columns):\n",
        "\n",
        "    #create a dataframe from the provided data\n",
        "    df = pandas.DataFrame(data, index=keywords_rows, columns=closeness_words_columns)\n",
        "\n",
        "    #set plot size according to the number of cols and rows\n",
        "    plt.figure(figsize=(len(columns_example),len(rows_example)))\n",
        "\n",
        "    #set color of heatmap\n",
        "    heatmap = sns.heatmap(df, cmap=\"YlGnBu\", annot=True, linewidths=.5)\n",
        "\n",
        "    #rotate text\n",
        "    loc_x, labels_x = plt.xticks()\n",
        "    loc_y, labels_y = plt.yticks()\n",
        "    heatmap.set_xticklabels(labels_x, rotation=58)\n",
        "    heatmap.set_yticklabels(labels_y, rotation=0)\n",
        "    \n",
        "\n",
        "#example of expected format of data that the method needs\n",
        "rows_example = [\"murder\", \"guilty\",\"suspect\",\"assassin\"]\n",
        "columns_example = [\"Holmes\", \"Moriarty\",\"Banks\",\"Charles\",\"Jack\",\"Tom\",\"Jim\",\"Jane\",\"Jackson\"]\n",
        "data_example = [[4,5,0,0,2,1,3,2,0],[0,0,2,1,4,3,6,1,0],[5,0,0,1,3,2,4,5,1],[0,0,1,0,0,0,5,2,0]]\n",
        "\n",
        "#call method\n",
        "visualize_co_occurrence(data_example,rows_example,columns_example)\n"
      ],
      "execution_count": null,
      "outputs": [
        {
          "output_type": "display_data",
          "data": {
            "image/png": "[encoded data removed]",
            "text/plain": [
              "<Figure size 648x288 with 2 Axes>"
            ]
          },
          "metadata": {
            "tags": [],
            "needs_background": "light"
          }
        }
      ]
    },
    {
      "cell_type": "code",
      "metadata": {
        "id": "VPui5ZX_ls_0",
        "colab_type": "code",
        "colab": {
          "base_uri": "https://localhost:8080/",
          "height": 279
        },
        "outputId": "9fc21010-0fc9-45f2-afde-4b8fcdc66123"
      },
      "source": [
        "def histogram_words(data, labels):\n",
        "    #prepare the data to pandas\n",
        "    data_ = [labels, data]\n",
        "    data_ = np.asarray(data_).transpose()\n",
        "    \n",
        "    #create a dataframe from the provided data\n",
        "    df = pandas.DataFrame(data_, columns=[\"Word\", \"Frequency\"])\n",
        "    sns.barplot(x=\"Word\", y=\"Frequency\", data=df, palette=\"Blues_d\")\n",
        "\n",
        "#example of expected format of data that the method needs\n",
        "labels_example = [\"murder\", \"guilty\",\"suspect\",\"assassin\"]\n",
        "data_example = [5,8,3,1]\n",
        "\n",
        "histogram_words(data_example,labels_example)"
      ],
      "execution_count": null,
      "outputs": [
        {
          "output_type": "display_data",
          "data": {
            "image/png": "[encoded data removed]",
            "text/plain": [
              "<Figure size 432x288 with 1 Axes>"
            ]
          },
          "metadata": {
            "tags": [],
            "needs_background": "light"
          }
        }
      ]
    },
    {
      "cell_type": "markdown",
      "metadata": {
        "id": "J26kopyFSL6C",
        "colab_type": "text"
      },
      "source": [
        "###$\\color{brown}{\\rm Drivers}$"
      ]
    },
    {
      "cell_type": "markdown",
      "metadata": {
        "id": "H5_Dh2WOgDb8",
        "colab_type": "text"
      },
      "source": [
        "# Negative words frequency/histogram"
      ]
    },
    {
      "cell_type": "code",
      "metadata": {
        "id": "KsG1LhSWj4PT",
        "colab_type": "code",
        "colab": {
          "base_uri": "https://localhost:8080/",
          "height": 101
        },
        "outputId": "4e14f7fa-b971-4493-8a15-e9a573805d9e"
      },
      "source": [
        "def get_negative_words(url):\n",
        "    with urllib.request.urlopen(url) as fd:\n",
        "        text = fd.read()\n",
        "        try:\n",
        "            return text.decode('utf-8')\n",
        "        except UnicodeDecodeError:\n",
        "            return text.decode('iso-8859-1')\n",
        "\n",
        "def count_negative_words(url, corpus, top):\n",
        "    #read all words from the specified url\n",
        "    negative_words_text = get_negative_words(url)\n",
        "    negative_words_list = [negative_words_text[match.span()[0]:match.span()[1]-1] for match in re.finditer(r'(?<=[a-z]\\n)[a-z]*\\n', negative_words_text)]\n",
        "\n",
        "    #count words from the corpus\n",
        "    count_list = []\n",
        "    for word in negative_words_list:\n",
        "        list_found = [match.span() for match in re.finditer(fr'(?<![a-z]){word}(?![a-z])', corpus)]\n",
        "        count_list.append(len(list_found))\n",
        "\n",
        "    #sort the results and return just the indicated top\n",
        "    new_list = np.asarray(list(zip(negative_words_list, count_list)), dtype = [('word', np.unicode_, 16), ('frequency', float)])\n",
        "    data_sorted = np.sort(new_list, order='frequency', kind=\"quicksort\")\n",
        "    data_sorted = data_sorted[::-1]\n",
        "    return data_sorted[:top]\n",
        "\n",
        "#Get corpus\n",
        "corpus = get_corpus('The Valley of Fear')\n",
        "corpus_l = corpus.lower()\n",
        "\n",
        "#get top results of negative word\n",
        "url_ = \"https://raw.githubusercontent.com/jeffreybreen/twitter-sentiment-analysis-tutorial-201107/08a269765a6b185d5f3dd522c876043ba9628715/data/opinion-lexicon-English/negative-words.txt\"\n",
        "results = count_negative_words(url_, corpus_l, top=20)\n",
        "print(results)"
      ],
      "execution_count": 95,
      "outputs": [
        {
          "output_type": "stream",
          "text": [
            "[('fear', 47.) ('murder', 39.) ('crime', 36.) ('dead', 31.)\n",
            " ('danger', 30.) ('doubt', 27.) ('dark', 24.) ('strange', 22.)\n",
            " ('hard', 22.) ('bad', 19.) ('trouble', 17.) ('terrible', 15.)\n",
            " ('cold', 15.) ('struck', 14.) ('stranger', 14.) ('death', 14.)\n",
            " ('criminal', 14.) ('worse', 13.) ('dumb', 13.) ('warning', 12.)]\n"
          ],
          "name": "stdout"
        }
      ]
    },
    {
      "cell_type": "code",
      "metadata": {
        "id": "hko7XGRqgBlE",
        "colab_type": "code",
        "colab": {
          "base_uri": "https://localhost:8080/",
          "height": 53
        },
        "outputId": "40b0ae32-3604-4f2c-b207-dfb46cfa95e3"
      },
      "source": [
        "corpus = get_corpus('The Valley of Fear')\n",
        "corpus_l = corpus.lower()\n",
        "\n",
        "# Get region of interest (ROI)\n",
        "roi_spans = get_rois(corpus_l)  # all text\n",
        "#roi_spans = get_rois(corpus_l, 'part')  # parts\n",
        "roi_span = roi_spans[0]\n",
        "print(roi_spans)\n",
        "print(roi_span)\n",
        "\n",
        "# Search keywords\n",
        "keywords = ['dead', 'death', 'murder', 'crime', 'hurt', 'blood', 'treasure',\n",
        "            'suffer', 'guilty', 'assassin', 'suspect', 'pain']\n",
        "keyword_spans = get_keywords_map(corpus_l, roi_span, keywords)"
      ],
      "execution_count": null,
      "outputs": [
        {
          "output_type": "stream",
          "text": [
            "[(672, 319494)]\n",
            "(672, 319494)\n"
          ],
          "name": "stdout"
        }
      ]
    },
    {
      "cell_type": "code",
      "metadata": {
        "id": "EZSGmoXBl4C6",
        "colab_type": "code",
        "colab": {
          "base_uri": "https://localhost:8080/",
          "height": 55
        },
        "outputId": "5537a521-fd30-43c0-9bd8-9999ca849f85"
      },
      "source": [
        "# Generate frequency table\n",
        "keyword_freq = generate_frequency_map(keyword_spans, threshold=5)\n",
        "print(keyword_freq)"
      ],
      "execution_count": null,
      "outputs": [
        {
          "output_type": "stream",
          "text": [
            "defaultdict(<class 'int'>, {'dead': 37, 'death': 14, 'murder': 67, 'crime': 38, 'blood': 33, 'treasure': 7, 'guilty': 9, 'assassin': 9, 'pain': 6})\n"
          ],
          "name": "stdout"
        }
      ]
    },
    {
      "cell_type": "code",
      "metadata": {
        "id": "hTvRuOOLkxSu",
        "colab_type": "code",
        "colab": {
          "base_uri": "https://localhost:8080/",
          "height": 318
        },
        "outputId": "88fcb541-6217-4d9d-a898-b44d77fc896f"
      },
      "source": [
        "# Plot\n",
        "labels = list(keyword_freq.keys())\n",
        "data = list(keyword_freq.values())\n",
        "print(labels)\n",
        "print(data)\n",
        "histogram_words(data, labels)"
      ],
      "execution_count": null,
      "outputs": [
        {
          "output_type": "stream",
          "text": [
            "['dead', 'death', 'murder', 'crime', 'blood', 'treasure', 'guilty', 'assassin', 'pain']\n",
            "[37, 14, 67, 38, 33, 7, 9, 9, 6]\n"
          ],
          "name": "stdout"
        },
        {
          "output_type": "display_data",
          "data": {
            "image/png": "[encoded data removed]",
            "text/plain": [
              "<Figure size 432x288 with 1 Axes>"
            ]
          },
          "metadata": {
            "tags": [],
            "needs_background": "light"
          }
        }
      ]
    }
  ]
}