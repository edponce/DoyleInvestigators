{
  "nbformat": 4,
  "nbformat_minor": 0,
  "metadata": {
    "colab": {
      "name": "Project1_NLP.ipynb",
      "provenance": [],
      "collapsed_sections": [],
      "toc_visible": true,
      "include_colab_link": true
    },
    "kernelspec": {
      "name": "python3",
      "display_name": "Python 3"
    }
  },
  "cells": [
    {
      "cell_type": "markdown",
      "metadata": {
        "id": "view-in-github",
        "colab_type": "text"
      },
      "source": [
        "<a href=\"https://colab.research.google.com/github/edponce/DoyleInvestigators/blob/master/Project1_NLP.ipynb\" target=\"_parent\"><img src=\"https://colab.research.google.com/assets/colab-badge.svg\" alt=\"Open In Colab\"/></a>"
      ]
    },
    {
      "cell_type": "markdown",
      "metadata": {
        "id": "EbEAIVRj7lbu",
        "colab_type": "text"
      },
      "source": [
        "###$\\color{brown}{\\rm Read~Web~Page~Content}$\n",
        "Read the content of a web page to start processing."
      ]
    },
    {
      "cell_type": "code",
      "metadata": {
        "id": "3AIatw6d7gUZ",
        "colab_type": "code",
        "colab": {
          "base_uri": "https://localhost:8080/",
          "height": 34
        },
        "outputId": "7b1ce020-827f-4e04-efb5-3edeef210862"
      },
      "source": [
        "import urllib.request\n",
        "url = \"http://www.gutenberg.org/files/3289/3289-0.txt\"\n",
        "file = urllib.request.urlopen(url)\n",
        "\n",
        "main_text = \"\"\n",
        "for line in file:\n",
        "    decoded_line = line.decode(\"utf-8\")\n",
        "    main_text = main_text + decoded_line\n",
        "\n",
        "print(len(main_text))"
      ],
      "execution_count": null,
      "outputs": [
        {
          "output_type": "stream",
          "text": [
            "338647\n"
          ],
          "name": "stdout"
        }
      ]
    },
    {
      "cell_type": "markdown",
      "metadata": {
        "id": "3q8QE-jl8q-0",
        "colab_type": "text"
      },
      "source": [
        "###$\\color{brown}{\\rm Split~into~Parts~and~Chapters}$\n",
        "Simple regex expressions."
      ]
    },
    {
      "cell_type": "code",
      "metadata": {
        "id": "UjYZIvls85Ta",
        "colab_type": "code",
        "colab": {
          "base_uri": "https://localhost:8080/",
          "height": 34
        },
        "outputId": "ea149637-2c77-471f-e7a7-e656be7c7e7e"
      },
      "source": [
        "import re\n",
        "\n",
        "#structure description:\n",
        "'''\n",
        "dict_sections = {\n",
        "                    \"part_1\": {\n",
        "                        \"title\":\"The Tragedy of Birlstone\",\n",
        "                        \"chapter_titles\":['The Warning\\r', 'Sherlock Holmes Discourses\\r', 'The Tragedy of Birlstone\\r', ...],\n",
        "                        \"chapters\":[\"I believe that I am one of th...\",\"It was one of those dramati...\", ...]\n",
        "                    },\n",
        "\n",
        "                    \"part_2\": {\n",
        "                        \"title\":\"The Scowrers\",\n",
        "                        \"chapter_titles\":['The Warning\\r', 'Sherlock Holmes Discourses\\r', 'The Tragedy of Birlstone\\r', ...],\n",
        "                        \"chapters\":[\"I believe that I am one of th...\",\"It was one of those dramati...\", ...]\n",
        "                    },\n",
        "                    \n",
        "                    ...,\n",
        "\n",
        "                    \"part_n\":{\n",
        "                        \"title\":\"xyz\",\n",
        "                        \"chapter_titles\":['...', '...', ...],\n",
        "                        \"chapters\":[\"...\", \"...\", ...]\n",
        "                    }\n",
        "                }\n",
        "'''\n",
        "\n",
        "#dictionary containing the main parts of the novel, every part contains a list of chapters\n",
        "dict_sections = {}\n",
        "\n",
        "\n",
        "#Get the trimmed text of the novel\n",
        "#--------------------------\n",
        "#flags=re.I -> ignore case\n",
        "start_novel_position = re.search('Part \\d-', main_text, flags=re.I).span()[0]\n",
        "end_novel_position = re.search('End of Project Gutenberg', main_text, flags=re.I).span()[0]\n",
        "\n",
        "#trim text\n",
        "main_text_trimmed = main_text[start_novel_position:end_novel_position].strip()\n",
        "#--------------------------\n",
        "\n",
        "\n",
        "#Get the parts of the novel\n",
        "#--------------------------\n",
        "list_text_parts = re.split(\"Part \\d--\", main_text_trimmed, flags=re.I) \n",
        "\n",
        "#the first item on the list is empty, this line gets rid of the empty item\n",
        "list_text_parts = [part for part in list_text_parts if len(part) > 0] \n",
        "#--------------------------\n",
        "\n",
        "\n",
        "#Get the chapters \n",
        "#--------------------------\n",
        "#iterate over the 'Parts' to get chapters\n",
        "for part_index, part in enumerate(list_text_parts):\n",
        "\n",
        "    #get 'Part' title and 'Part' text\n",
        "    linefeed_title = re.search('\\n', part).span()[0]\n",
        "    part_title = part[0:linefeed_title]\n",
        "    part_text = part[linefeed_title:len(part)].strip()\n",
        "    \n",
        "    #get chapters list\n",
        "    list_chapters = re.split(\"Chapter \\d--\", part_text, flags=re.I)\n",
        "    list_chapters = [chapter for chapter in list_chapters if len(chapter) > 0] \n",
        "\n",
        "    #iterate over every chapter\n",
        "    title_list = []\n",
        "    chapter_list = []\n",
        "    for chapter in list_chapters:\n",
        "        #get 'Chapter' title and 'Chapter' text\n",
        "        linefeed_title_ch = re.search('\\n', chapter).span()[0]\n",
        "        chapter_title = chapter[0:linefeed_title_ch]\n",
        "        chapter_text = chapter[linefeed_title_ch:len(chapter)].strip()\n",
        "        \n",
        "        #add to lists\n",
        "        title_list.append(chapter_title)\n",
        "        chapter_list.append(chapter_text)\n",
        "\n",
        "    #create a dictionary for this part\n",
        "    part_dictionary = {\"part_title\":part_title,\n",
        "                       \"chapter_titles\":title_list,\n",
        "                       \"chapters\":chapter_list}\n",
        "\n",
        "    #add to the main dictionary\n",
        "    dict_sections[\"part_\"+str(part_index+1)] = part_dictionary\n",
        "#--------------------------\n",
        "\n",
        "\n",
        "print(dict_sections[\"part_2\"][\"part_title\"])"
      ],
      "execution_count": null,
      "outputs": [
        {
          "output_type": "stream",
          "text": [
            "The Scowrers\r\n"
          ],
          "name": "stdout"
        }
      ]
    }
  ]
}